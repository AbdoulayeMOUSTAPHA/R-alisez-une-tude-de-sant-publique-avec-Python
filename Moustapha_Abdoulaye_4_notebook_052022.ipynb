{
 "cells": [
  {
   "cell_type": "markdown",
   "id": "191bb754",
   "metadata": {},
   "source": [
    "<img src=\"https://www.fao.org/images/corporatelibraries/fao-logo/fao-logo-fr.svg?sfvrsn=f64522b4_31\"  />"
   ]
  },
  {
   "cell_type": "markdown",
   "id": "b0c84c38",
   "metadata": {},
   "source": [
    "### Première Partie - Importation des librairies et préparation des dataframes\n"
   ]
  },
  {
   "cell_type": "markdown",
   "id": "e9204286",
   "metadata": {
    "raw_mimetype": "text/markdown"
   },
   "source": [
    "### I. Importation des librairies"
   ]
  },
  {
   "cell_type": "code",
   "execution_count": 77,
   "id": "22b72c60",
   "metadata": {},
   "outputs": [],
   "source": [
    "# Importons la librairie pandas\n",
    "import pandas as pd"
   ]
  },
  {
   "cell_type": "markdown",
   "id": "336394e0",
   "metadata": {},
   "source": [
    "### II. Lecture des fichiers et preparation des dataframes"
   ]
  },
  {
   "cell_type": "markdown",
   "id": "def2cca4",
   "metadata": {},
   "source": [
    "#### II.1.  Lecture des fichiers"
   ]
  },
  {
   "cell_type": "markdown",
   "id": "66c27203",
   "metadata": {},
   "source": [
    "#### II.1.1. Population"
   ]
  },
  {
   "cell_type": "code",
   "execution_count": 78,
   "id": "03c91afb",
   "metadata": {},
   "outputs": [],
   "source": [
    "# Récupérons notre fichier csv dans une variable\n",
    "df_population = pd.read_csv('population.csv')"
   ]
  },
  {
   "cell_type": "markdown",
   "id": "d4fa6e33",
   "metadata": {},
   "source": [
    "#### II.1.2. Disponibilité alimentaire"
   ]
  },
  {
   "cell_type": "code",
   "execution_count": 79,
   "id": "7b5ef30a",
   "metadata": {},
   "outputs": [],
   "source": [
    "# Récupérons notre fichier csv dans une variable\n",
    "df_dispo_alim = pd.read_csv('dispo_alimentaire.csv')"
   ]
  },
  {
   "cell_type": "markdown",
   "id": "3dfa0c4e",
   "metadata": {},
   "source": [
    "#### II.1.3. Sous nutrition"
   ]
  },
  {
   "cell_type": "code",
   "execution_count": 80,
   "id": "b241fb4d",
   "metadata": {},
   "outputs": [],
   "source": [
    "# Récupérons notre fichier csv dans une variable\n",
    "df_sous_nutrition = pd.read_csv('sous_nutrition.csv')"
   ]
  },
  {
   "cell_type": "markdown",
   "id": "48a2b2fb",
   "metadata": {},
   "source": [
    "#### II.1.3. Aide alimentaire"
   ]
  },
  {
   "cell_type": "code",
   "execution_count": 81,
   "id": "56057459",
   "metadata": {},
   "outputs": [],
   "source": [
    "# Récupérons notre fichier csv dans une variable\n",
    "df_aide_alim = pd.read_csv('aide_alimentaire.csv')"
   ]
  },
  {
   "cell_type": "markdown",
   "id": "4eb33510",
   "metadata": {},
   "source": [
    "#### II.2 Preparation des dataframes"
   ]
  },
  {
   "cell_type": "markdown",
   "id": "73fdd548",
   "metadata": {},
   "source": [
    "#### II.2.1 Population"
   ]
  },
  {
   "cell_type": "code",
   "execution_count": 82,
   "id": "549ca538",
   "metadata": {},
   "outputs": [
    {
     "data": {
      "text/html": [
       "<div>\n",
       "<style scoped>\n",
       "    .dataframe tbody tr th:only-of-type {\n",
       "        vertical-align: middle;\n",
       "    }\n",
       "\n",
       "    .dataframe tbody tr th {\n",
       "        vertical-align: top;\n",
       "    }\n",
       "\n",
       "    .dataframe thead th {\n",
       "        text-align: right;\n",
       "    }\n",
       "</style>\n",
       "<table border=\"1\" class=\"dataframe\">\n",
       "  <thead>\n",
       "    <tr style=\"text-align: right;\">\n",
       "      <th></th>\n",
       "      <th>Zone</th>\n",
       "      <th>Année</th>\n",
       "      <th>Valeur</th>\n",
       "    </tr>\n",
       "  </thead>\n",
       "  <tbody>\n",
       "    <tr>\n",
       "      <th>0</th>\n",
       "      <td>Afghanistan</td>\n",
       "      <td>2013</td>\n",
       "      <td>32269.589</td>\n",
       "    </tr>\n",
       "    <tr>\n",
       "      <th>1</th>\n",
       "      <td>Afghanistan</td>\n",
       "      <td>2014</td>\n",
       "      <td>33370.794</td>\n",
       "    </tr>\n",
       "    <tr>\n",
       "      <th>2</th>\n",
       "      <td>Afghanistan</td>\n",
       "      <td>2015</td>\n",
       "      <td>34413.603</td>\n",
       "    </tr>\n",
       "    <tr>\n",
       "      <th>3</th>\n",
       "      <td>Afghanistan</td>\n",
       "      <td>2016</td>\n",
       "      <td>35383.032</td>\n",
       "    </tr>\n",
       "    <tr>\n",
       "      <th>4</th>\n",
       "      <td>Afghanistan</td>\n",
       "      <td>2017</td>\n",
       "      <td>36296.113</td>\n",
       "    </tr>\n",
       "  </tbody>\n",
       "</table>\n",
       "</div>"
      ],
      "text/plain": [
       "          Zone  Année     Valeur\n",
       "0  Afghanistan   2013  32269.589\n",
       "1  Afghanistan   2014  33370.794\n",
       "2  Afghanistan   2015  34413.603\n",
       "3  Afghanistan   2016  35383.032\n",
       "4  Afghanistan   2017  36296.113"
      ]
     },
     "execution_count": 82,
     "metadata": {},
     "output_type": "execute_result"
    }
   ],
   "source": [
    "# Affichons les 5 premières entrées pour avoir un aperçu de notre dataframe\n",
    "df_population.head()"
   ]
  },
  {
   "cell_type": "code",
   "execution_count": 83,
   "id": "689283d1",
   "metadata": {},
   "outputs": [
    {
     "data": {
      "text/html": [
       "<div>\n",
       "<style scoped>\n",
       "    .dataframe tbody tr th:only-of-type {\n",
       "        vertical-align: middle;\n",
       "    }\n",
       "\n",
       "    .dataframe tbody tr th {\n",
       "        vertical-align: top;\n",
       "    }\n",
       "\n",
       "    .dataframe thead th {\n",
       "        text-align: right;\n",
       "    }\n",
       "</style>\n",
       "<table border=\"1\" class=\"dataframe\">\n",
       "  <thead>\n",
       "    <tr style=\"text-align: right;\">\n",
       "      <th></th>\n",
       "      <th>Zone</th>\n",
       "      <th>Année</th>\n",
       "      <th>Valeur</th>\n",
       "    </tr>\n",
       "  </thead>\n",
       "  <tbody>\n",
       "    <tr>\n",
       "      <th>1411</th>\n",
       "      <td>Zimbabwe</td>\n",
       "      <td>2014</td>\n",
       "      <td>13586.707</td>\n",
       "    </tr>\n",
       "    <tr>\n",
       "      <th>1412</th>\n",
       "      <td>Zimbabwe</td>\n",
       "      <td>2015</td>\n",
       "      <td>13814.629</td>\n",
       "    </tr>\n",
       "    <tr>\n",
       "      <th>1413</th>\n",
       "      <td>Zimbabwe</td>\n",
       "      <td>2016</td>\n",
       "      <td>14030.331</td>\n",
       "    </tr>\n",
       "    <tr>\n",
       "      <th>1414</th>\n",
       "      <td>Zimbabwe</td>\n",
       "      <td>2017</td>\n",
       "      <td>14236.595</td>\n",
       "    </tr>\n",
       "    <tr>\n",
       "      <th>1415</th>\n",
       "      <td>Zimbabwe</td>\n",
       "      <td>2018</td>\n",
       "      <td>14438.802</td>\n",
       "    </tr>\n",
       "  </tbody>\n",
       "</table>\n",
       "</div>"
      ],
      "text/plain": [
       "          Zone  Année     Valeur\n",
       "1411  Zimbabwe   2014  13586.707\n",
       "1412  Zimbabwe   2015  13814.629\n",
       "1413  Zimbabwe   2016  14030.331\n",
       "1414  Zimbabwe   2017  14236.595\n",
       "1415  Zimbabwe   2018  14438.802"
      ]
     },
     "execution_count": 83,
     "metadata": {},
     "output_type": "execute_result"
    }
   ],
   "source": [
    "# Affichons les 5 dernières entrées pour avoir un aperçu de notre dataframe\n",
    "df_population.tail()"
   ]
  },
  {
   "cell_type": "code",
   "execution_count": 84,
   "id": "cac73c75",
   "metadata": {},
   "outputs": [
    {
     "data": {
      "text/plain": [
       "(1416, 3)"
      ]
     },
     "execution_count": 84,
     "metadata": {},
     "output_type": "execute_result"
    }
   ],
   "source": [
    "# Affichons le nombre de lignes et de colonnes\n",
    "df_population.shape"
   ]
  },
  {
   "cell_type": "code",
   "execution_count": 85,
   "id": "2c6dc9df",
   "metadata": {},
   "outputs": [
    {
     "data": {
      "text/plain": [
       "Zone       object\n",
       "Année       int64\n",
       "Valeur    float64\n",
       "dtype: object"
      ]
     },
     "execution_count": 85,
     "metadata": {},
     "output_type": "execute_result"
    }
   ],
   "source": [
    "# Vérifions le type de données de notre dataframe\n",
    "df_population.dtypes"
   ]
  },
  {
   "cell_type": "code",
   "execution_count": 86,
   "id": "d9b66c60",
   "metadata": {},
   "outputs": [
    {
     "data": {
      "text/plain": [
       "Zone      0\n",
       "Année     0\n",
       "Valeur    0\n",
       "dtype: int64"
      ]
     },
     "execution_count": 86,
     "metadata": {},
     "output_type": "execute_result"
    }
   ],
   "source": [
    "#Recherchons des valeurs manquantes\n",
    "df_population.isnull().sum()"
   ]
  },
  {
   "cell_type": "code",
   "execution_count": 87,
   "id": "cde87618",
   "metadata": {},
   "outputs": [],
   "source": [
    "#Renommons le titre des colonnes 'zone' et 'valeur'\n",
    "df_population.rename(columns={'Zone':'Pays','Valeur':'Nombre_habitants'},inplace=True)"
   ]
  },
  {
   "cell_type": "code",
   "execution_count": 553,
   "id": "3dcb6e27",
   "metadata": {},
   "outputs": [
    {
     "data": {
      "text/plain": [
       "Index(['Pays', 'Année', 'Nombre_habitants'], dtype='object')"
      ]
     },
     "execution_count": 553,
     "metadata": {},
     "output_type": "execute_result"
    }
   ],
   "source": [
    "# Affichons les colonnes de la dataframe 'df_population'\n",
    "df_population.columns"
   ]
  },
  {
   "cell_type": "code",
   "execution_count": 89,
   "id": "602d5f85",
   "metadata": {},
   "outputs": [],
   "source": [
    "# Modifions les valeurs Nombre_habitants en milliers d'habitants\n",
    "df_population['Nombre_habitants']=df_population['Nombre_habitants']*1000"
   ]
  },
  {
   "cell_type": "code",
   "execution_count": 90,
   "id": "640295c7",
   "metadata": {},
   "outputs": [
    {
     "data": {
      "text/plain": [
       "0       32269589.0\n",
       "1       33370794.0\n",
       "2       34413603.0\n",
       "3       35383032.0\n",
       "4       36296113.0\n",
       "           ...    \n",
       "1411    13586707.0\n",
       "1412    13814629.0\n",
       "1413    14030331.0\n",
       "1414    14236595.0\n",
       "1415    14438802.0\n",
       "Name: Nombre_habitants, Length: 1416, dtype: float64"
      ]
     },
     "execution_count": 90,
     "metadata": {},
     "output_type": "execute_result"
    }
   ],
   "source": [
    "df_population['Nombre_habitants']"
   ]
  },
  {
   "cell_type": "code",
   "execution_count": 91,
   "id": "bc23206a",
   "metadata": {},
   "outputs": [],
   "source": [
    "# Modifions le type de ma colonne en int\n",
    "df_population['Nombre_habitants'] = df_population['Nombre_habitants'].astype(int)"
   ]
  },
  {
   "cell_type": "code",
   "execution_count": 92,
   "id": "1af708e6",
   "metadata": {},
   "outputs": [
    {
     "data": {
      "text/plain": [
       "dtype('int32')"
      ]
     },
     "execution_count": 92,
     "metadata": {},
     "output_type": "execute_result"
    }
   ],
   "source": [
    "df_population['Nombre_habitants'].dtypes"
   ]
  },
  {
   "cell_type": "code",
   "execution_count": 93,
   "id": "41386b0f",
   "metadata": {},
   "outputs": [
    {
     "data": {
      "text/plain": [
       "0       32269589\n",
       "1       33370794\n",
       "2       34413603\n",
       "3       35383032\n",
       "4       36296113\n",
       "          ...   \n",
       "1411    13586707\n",
       "1412    13814629\n",
       "1413    14030331\n",
       "1414    14236595\n",
       "1415    14438802\n",
       "Name: Nombre_habitants, Length: 1416, dtype: int32"
      ]
     },
     "execution_count": 93,
     "metadata": {},
     "output_type": "execute_result"
    }
   ],
   "source": [
    "df_population['Nombre_habitants']"
   ]
  },
  {
   "cell_type": "code",
   "execution_count": 94,
   "id": "4f9c681a",
   "metadata": {},
   "outputs": [
    {
     "data": {
      "text/html": [
       "<div>\n",
       "<style scoped>\n",
       "    .dataframe tbody tr th:only-of-type {\n",
       "        vertical-align: middle;\n",
       "    }\n",
       "\n",
       "    .dataframe tbody tr th {\n",
       "        vertical-align: top;\n",
       "    }\n",
       "\n",
       "    .dataframe thead th {\n",
       "        text-align: right;\n",
       "    }\n",
       "</style>\n",
       "<table border=\"1\" class=\"dataframe\">\n",
       "  <thead>\n",
       "    <tr style=\"text-align: right;\">\n",
       "      <th></th>\n",
       "      <th>Pays</th>\n",
       "      <th>Année</th>\n",
       "      <th>Nombre_habitants</th>\n",
       "    </tr>\n",
       "  </thead>\n",
       "  <tbody>\n",
       "    <tr>\n",
       "      <th>4</th>\n",
       "      <td>Afghanistan</td>\n",
       "      <td>2017</td>\n",
       "      <td>36296113</td>\n",
       "    </tr>\n",
       "    <tr>\n",
       "      <th>10</th>\n",
       "      <td>Afrique du Sud</td>\n",
       "      <td>2017</td>\n",
       "      <td>57009756</td>\n",
       "    </tr>\n",
       "    <tr>\n",
       "      <th>16</th>\n",
       "      <td>Albanie</td>\n",
       "      <td>2017</td>\n",
       "      <td>2884169</td>\n",
       "    </tr>\n",
       "    <tr>\n",
       "      <th>22</th>\n",
       "      <td>Algérie</td>\n",
       "      <td>2017</td>\n",
       "      <td>41389189</td>\n",
       "    </tr>\n",
       "    <tr>\n",
       "      <th>28</th>\n",
       "      <td>Allemagne</td>\n",
       "      <td>2017</td>\n",
       "      <td>82658409</td>\n",
       "    </tr>\n",
       "    <tr>\n",
       "      <th>...</th>\n",
       "      <td>...</td>\n",
       "      <td>...</td>\n",
       "      <td>...</td>\n",
       "    </tr>\n",
       "    <tr>\n",
       "      <th>1390</th>\n",
       "      <td>Venezuela (République bolivarienne du)</td>\n",
       "      <td>2017</td>\n",
       "      <td>29402484</td>\n",
       "    </tr>\n",
       "    <tr>\n",
       "      <th>1396</th>\n",
       "      <td>Viet Nam</td>\n",
       "      <td>2017</td>\n",
       "      <td>94600648</td>\n",
       "    </tr>\n",
       "    <tr>\n",
       "      <th>1402</th>\n",
       "      <td>Yémen</td>\n",
       "      <td>2017</td>\n",
       "      <td>27834819</td>\n",
       "    </tr>\n",
       "    <tr>\n",
       "      <th>1408</th>\n",
       "      <td>Zambie</td>\n",
       "      <td>2017</td>\n",
       "      <td>16853599</td>\n",
       "    </tr>\n",
       "    <tr>\n",
       "      <th>1414</th>\n",
       "      <td>Zimbabwe</td>\n",
       "      <td>2017</td>\n",
       "      <td>14236595</td>\n",
       "    </tr>\n",
       "  </tbody>\n",
       "</table>\n",
       "<p>236 rows × 3 columns</p>\n",
       "</div>"
      ],
      "text/plain": [
       "                                        Pays  Année  Nombre_habitants\n",
       "4                                Afghanistan   2017          36296113\n",
       "10                            Afrique du Sud   2017          57009756\n",
       "16                                   Albanie   2017           2884169\n",
       "22                                   Algérie   2017          41389189\n",
       "28                                 Allemagne   2017          82658409\n",
       "...                                      ...    ...               ...\n",
       "1390  Venezuela (République bolivarienne du)   2017          29402484\n",
       "1396                                Viet Nam   2017          94600648\n",
       "1402                                   Yémen   2017          27834819\n",
       "1408                                  Zambie   2017          16853599\n",
       "1414                                Zimbabwe   2017          14236595\n",
       "\n",
       "[236 rows x 3 columns]"
      ]
     },
     "execution_count": 94,
     "metadata": {},
     "output_type": "execute_result"
    }
   ],
   "source": [
    "# Création de notre dataframe Population pour l'année 2017\n",
    "df_population[df_population.Année==2017]  "
   ]
  },
  {
   "cell_type": "code",
   "execution_count": 95,
   "id": "fbad592e",
   "metadata": {},
   "outputs": [],
   "source": [
    "df_population_2017 = df_population[df_population.Année==2017] "
   ]
  },
  {
   "cell_type": "code",
   "execution_count": 96,
   "id": "ac59cf0a",
   "metadata": {},
   "outputs": [
    {
     "data": {
      "text/plain": [
       "7548134097"
      ]
     },
     "execution_count": 96,
     "metadata": {},
     "output_type": "execute_result"
    }
   ],
   "source": [
    "df_population_2017.Nombre_habitants.sum()"
   ]
  },
  {
   "cell_type": "markdown",
   "id": "7ab534ce",
   "metadata": {},
   "source": [
    "#### II.2.2. Disponibilité alimentaire"
   ]
  },
  {
   "cell_type": "code",
   "execution_count": 97,
   "id": "04ea8ce8",
   "metadata": {},
   "outputs": [
    {
     "data": {
      "text/html": [
       "<div>\n",
       "<style scoped>\n",
       "    .dataframe tbody tr th:only-of-type {\n",
       "        vertical-align: middle;\n",
       "    }\n",
       "\n",
       "    .dataframe tbody tr th {\n",
       "        vertical-align: top;\n",
       "    }\n",
       "\n",
       "    .dataframe thead th {\n",
       "        text-align: right;\n",
       "    }\n",
       "</style>\n",
       "<table border=\"1\" class=\"dataframe\">\n",
       "  <thead>\n",
       "    <tr style=\"text-align: right;\">\n",
       "      <th></th>\n",
       "      <th>Zone</th>\n",
       "      <th>Produit</th>\n",
       "      <th>Origine</th>\n",
       "      <th>Aliments pour animaux</th>\n",
       "      <th>Autres Utilisations</th>\n",
       "      <th>Disponibilité alimentaire (Kcal/personne/jour)</th>\n",
       "      <th>Disponibilité alimentaire en quantité (kg/personne/an)</th>\n",
       "      <th>Disponibilité de matière grasse en quantité (g/personne/jour)</th>\n",
       "      <th>Disponibilité de protéines en quantité (g/personne/jour)</th>\n",
       "      <th>Disponibilité intérieure</th>\n",
       "      <th>Exportations - Quantité</th>\n",
       "      <th>Importations - Quantité</th>\n",
       "      <th>Nourriture</th>\n",
       "      <th>Pertes</th>\n",
       "      <th>Production</th>\n",
       "      <th>Semences</th>\n",
       "      <th>Traitement</th>\n",
       "      <th>Variation de stock</th>\n",
       "    </tr>\n",
       "  </thead>\n",
       "  <tbody>\n",
       "    <tr>\n",
       "      <th>0</th>\n",
       "      <td>Afghanistan</td>\n",
       "      <td>Abats Comestible</td>\n",
       "      <td>animale</td>\n",
       "      <td>NaN</td>\n",
       "      <td>NaN</td>\n",
       "      <td>5.0</td>\n",
       "      <td>1.72</td>\n",
       "      <td>0.20</td>\n",
       "      <td>0.77</td>\n",
       "      <td>53.0</td>\n",
       "      <td>NaN</td>\n",
       "      <td>NaN</td>\n",
       "      <td>53.0</td>\n",
       "      <td>NaN</td>\n",
       "      <td>53.0</td>\n",
       "      <td>NaN</td>\n",
       "      <td>NaN</td>\n",
       "      <td>NaN</td>\n",
       "    </tr>\n",
       "    <tr>\n",
       "      <th>1</th>\n",
       "      <td>Afghanistan</td>\n",
       "      <td>Agrumes, Autres</td>\n",
       "      <td>vegetale</td>\n",
       "      <td>NaN</td>\n",
       "      <td>NaN</td>\n",
       "      <td>1.0</td>\n",
       "      <td>1.29</td>\n",
       "      <td>0.01</td>\n",
       "      <td>0.02</td>\n",
       "      <td>41.0</td>\n",
       "      <td>2.0</td>\n",
       "      <td>40.0</td>\n",
       "      <td>39.0</td>\n",
       "      <td>2.0</td>\n",
       "      <td>3.0</td>\n",
       "      <td>NaN</td>\n",
       "      <td>NaN</td>\n",
       "      <td>NaN</td>\n",
       "    </tr>\n",
       "    <tr>\n",
       "      <th>2</th>\n",
       "      <td>Afghanistan</td>\n",
       "      <td>Aliments pour enfants</td>\n",
       "      <td>vegetale</td>\n",
       "      <td>NaN</td>\n",
       "      <td>NaN</td>\n",
       "      <td>1.0</td>\n",
       "      <td>0.06</td>\n",
       "      <td>0.01</td>\n",
       "      <td>0.03</td>\n",
       "      <td>2.0</td>\n",
       "      <td>NaN</td>\n",
       "      <td>2.0</td>\n",
       "      <td>2.0</td>\n",
       "      <td>NaN</td>\n",
       "      <td>NaN</td>\n",
       "      <td>NaN</td>\n",
       "      <td>NaN</td>\n",
       "      <td>NaN</td>\n",
       "    </tr>\n",
       "    <tr>\n",
       "      <th>3</th>\n",
       "      <td>Afghanistan</td>\n",
       "      <td>Ananas</td>\n",
       "      <td>vegetale</td>\n",
       "      <td>NaN</td>\n",
       "      <td>NaN</td>\n",
       "      <td>0.0</td>\n",
       "      <td>0.00</td>\n",
       "      <td>NaN</td>\n",
       "      <td>NaN</td>\n",
       "      <td>0.0</td>\n",
       "      <td>NaN</td>\n",
       "      <td>0.0</td>\n",
       "      <td>0.0</td>\n",
       "      <td>NaN</td>\n",
       "      <td>NaN</td>\n",
       "      <td>NaN</td>\n",
       "      <td>NaN</td>\n",
       "      <td>NaN</td>\n",
       "    </tr>\n",
       "    <tr>\n",
       "      <th>4</th>\n",
       "      <td>Afghanistan</td>\n",
       "      <td>Bananes</td>\n",
       "      <td>vegetale</td>\n",
       "      <td>NaN</td>\n",
       "      <td>NaN</td>\n",
       "      <td>4.0</td>\n",
       "      <td>2.70</td>\n",
       "      <td>0.02</td>\n",
       "      <td>0.05</td>\n",
       "      <td>82.0</td>\n",
       "      <td>NaN</td>\n",
       "      <td>82.0</td>\n",
       "      <td>82.0</td>\n",
       "      <td>NaN</td>\n",
       "      <td>NaN</td>\n",
       "      <td>NaN</td>\n",
       "      <td>NaN</td>\n",
       "      <td>NaN</td>\n",
       "    </tr>\n",
       "  </tbody>\n",
       "</table>\n",
       "</div>"
      ],
      "text/plain": [
       "          Zone                Produit   Origine  Aliments pour animaux  \\\n",
       "0  Afghanistan       Abats Comestible   animale                    NaN   \n",
       "1  Afghanistan        Agrumes, Autres  vegetale                    NaN   \n",
       "2  Afghanistan  Aliments pour enfants  vegetale                    NaN   \n",
       "3  Afghanistan                 Ananas  vegetale                    NaN   \n",
       "4  Afghanistan                Bananes  vegetale                    NaN   \n",
       "\n",
       "   Autres Utilisations  Disponibilité alimentaire (Kcal/personne/jour)  \\\n",
       "0                  NaN                                             5.0   \n",
       "1                  NaN                                             1.0   \n",
       "2                  NaN                                             1.0   \n",
       "3                  NaN                                             0.0   \n",
       "4                  NaN                                             4.0   \n",
       "\n",
       "   Disponibilité alimentaire en quantité (kg/personne/an)  \\\n",
       "0                                               1.72        \n",
       "1                                               1.29        \n",
       "2                                               0.06        \n",
       "3                                               0.00        \n",
       "4                                               2.70        \n",
       "\n",
       "   Disponibilité de matière grasse en quantité (g/personne/jour)  \\\n",
       "0                                               0.20               \n",
       "1                                               0.01               \n",
       "2                                               0.01               \n",
       "3                                                NaN               \n",
       "4                                               0.02               \n",
       "\n",
       "   Disponibilité de protéines en quantité (g/personne/jour)  \\\n",
       "0                                               0.77          \n",
       "1                                               0.02          \n",
       "2                                               0.03          \n",
       "3                                                NaN          \n",
       "4                                               0.05          \n",
       "\n",
       "   Disponibilité intérieure  Exportations - Quantité  Importations - Quantité  \\\n",
       "0                      53.0                      NaN                      NaN   \n",
       "1                      41.0                      2.0                     40.0   \n",
       "2                       2.0                      NaN                      2.0   \n",
       "3                       0.0                      NaN                      0.0   \n",
       "4                      82.0                      NaN                     82.0   \n",
       "\n",
       "   Nourriture  Pertes  Production  Semences  Traitement  Variation de stock  \n",
       "0        53.0     NaN        53.0       NaN         NaN                 NaN  \n",
       "1        39.0     2.0         3.0       NaN         NaN                 NaN  \n",
       "2         2.0     NaN         NaN       NaN         NaN                 NaN  \n",
       "3         0.0     NaN         NaN       NaN         NaN                 NaN  \n",
       "4        82.0     NaN         NaN       NaN         NaN                 NaN  "
      ]
     },
     "execution_count": 97,
     "metadata": {},
     "output_type": "execute_result"
    }
   ],
   "source": [
    "# Affichons les 5 premières entrées pour avoir un aperçu de notre dataframe\n",
    "df_dispo_alim.head()"
   ]
  },
  {
   "cell_type": "code",
   "execution_count": 98,
   "id": "c649a802",
   "metadata": {},
   "outputs": [
    {
     "data": {
      "text/plain": [
       "(15605, 18)"
      ]
     },
     "execution_count": 98,
     "metadata": {},
     "output_type": "execute_result"
    }
   ],
   "source": [
    "# Affichons le nombre de lignes et de colonnes\n",
    "df_dispo_alim.shape"
   ]
  },
  {
   "cell_type": "code",
   "execution_count": 99,
   "id": "edcd2d37",
   "metadata": {},
   "outputs": [
    {
     "data": {
      "text/plain": [
       "Zone                                                              object\n",
       "Produit                                                           object\n",
       "Origine                                                           object\n",
       "Aliments pour animaux                                            float64\n",
       "Autres Utilisations                                              float64\n",
       "Disponibilité alimentaire (Kcal/personne/jour)                   float64\n",
       "Disponibilité alimentaire en quantité (kg/personne/an)           float64\n",
       "Disponibilité de matière grasse en quantité (g/personne/jour)    float64\n",
       "Disponibilité de protéines en quantité (g/personne/jour)         float64\n",
       "Disponibilité intérieure                                         float64\n",
       "Exportations - Quantité                                          float64\n",
       "Importations - Quantité                                          float64\n",
       "Nourriture                                                       float64\n",
       "Pertes                                                           float64\n",
       "Production                                                       float64\n",
       "Semences                                                         float64\n",
       "Traitement                                                       float64\n",
       "Variation de stock                                               float64\n",
       "dtype: object"
      ]
     },
     "execution_count": 99,
     "metadata": {},
     "output_type": "execute_result"
    }
   ],
   "source": [
    "# Vérifions le type de données de notre dataframe\n",
    "df_dispo_alim.dtypes"
   ]
  },
  {
   "cell_type": "code",
   "execution_count": 100,
   "id": "e4f632fa",
   "metadata": {},
   "outputs": [
    {
     "data": {
      "text/plain": [
       "Zone                                                                 0\n",
       "Produit                                                              0\n",
       "Origine                                                              0\n",
       "Aliments pour animaux                                            12885\n",
       "Autres Utilisations                                              10109\n",
       "Disponibilité alimentaire (Kcal/personne/jour)                    1364\n",
       "Disponibilité alimentaire en quantité (kg/personne/an)            1590\n",
       "Disponibilité de matière grasse en quantité (g/personne/jour)     3811\n",
       "Disponibilité de protéines en quantité (g/personne/jour)          4044\n",
       "Disponibilité intérieure                                           223\n",
       "Exportations - Quantité                                           3379\n",
       "Importations - Quantité                                            753\n",
       "Nourriture                                                        1590\n",
       "Pertes                                                           11327\n",
       "Production                                                        6425\n",
       "Semences                                                         13514\n",
       "Traitement                                                       13313\n",
       "Variation de stock                                                8829\n",
       "dtype: int64"
      ]
     },
     "execution_count": 100,
     "metadata": {},
     "output_type": "execute_result"
    }
   ],
   "source": [
    "# Recherchons les valeurs manquantes\n",
    "df_dispo_alim.isnull().sum()"
   ]
  },
  {
   "cell_type": "code",
   "execution_count": 101,
   "id": "61e5cf10",
   "metadata": {},
   "outputs": [],
   "source": [
    "# Remplaçons  mes valeurs nulles par 0 et créeons une nouvelle variable pour conserver la variable de départ\n",
    "df_dispon_alim = df_dispo_alim.fillna(0)"
   ]
  },
  {
   "cell_type": "code",
   "execution_count": 102,
   "id": "b0093672",
   "metadata": {},
   "outputs": [
    {
     "data": {
      "text/html": [
       "<div>\n",
       "<style scoped>\n",
       "    .dataframe tbody tr th:only-of-type {\n",
       "        vertical-align: middle;\n",
       "    }\n",
       "\n",
       "    .dataframe tbody tr th {\n",
       "        vertical-align: top;\n",
       "    }\n",
       "\n",
       "    .dataframe thead th {\n",
       "        text-align: right;\n",
       "    }\n",
       "</style>\n",
       "<table border=\"1\" class=\"dataframe\">\n",
       "  <thead>\n",
       "    <tr style=\"text-align: right;\">\n",
       "      <th></th>\n",
       "      <th>Zone</th>\n",
       "      <th>Produit</th>\n",
       "      <th>Origine</th>\n",
       "      <th>Aliments pour animaux</th>\n",
       "      <th>Autres Utilisations</th>\n",
       "      <th>Disponibilité alimentaire (Kcal/personne/jour)</th>\n",
       "      <th>Disponibilité alimentaire en quantité (kg/personne/an)</th>\n",
       "      <th>Disponibilité de matière grasse en quantité (g/personne/jour)</th>\n",
       "      <th>Disponibilité de protéines en quantité (g/personne/jour)</th>\n",
       "      <th>Disponibilité intérieure</th>\n",
       "      <th>Exportations - Quantité</th>\n",
       "      <th>Importations - Quantité</th>\n",
       "      <th>Nourriture</th>\n",
       "      <th>Pertes</th>\n",
       "      <th>Production</th>\n",
       "      <th>Semences</th>\n",
       "      <th>Traitement</th>\n",
       "      <th>Variation de stock</th>\n",
       "    </tr>\n",
       "  </thead>\n",
       "  <tbody>\n",
       "    <tr>\n",
       "      <th>0</th>\n",
       "      <td>Afghanistan</td>\n",
       "      <td>Abats Comestible</td>\n",
       "      <td>animale</td>\n",
       "      <td>0.0</td>\n",
       "      <td>0.0</td>\n",
       "      <td>5.0</td>\n",
       "      <td>1.72</td>\n",
       "      <td>0.20</td>\n",
       "      <td>0.77</td>\n",
       "      <td>53.0</td>\n",
       "      <td>0.0</td>\n",
       "      <td>0.0</td>\n",
       "      <td>53.0</td>\n",
       "      <td>0.0</td>\n",
       "      <td>53.0</td>\n",
       "      <td>0.0</td>\n",
       "      <td>0.0</td>\n",
       "      <td>0.0</td>\n",
       "    </tr>\n",
       "    <tr>\n",
       "      <th>1</th>\n",
       "      <td>Afghanistan</td>\n",
       "      <td>Agrumes, Autres</td>\n",
       "      <td>vegetale</td>\n",
       "      <td>0.0</td>\n",
       "      <td>0.0</td>\n",
       "      <td>1.0</td>\n",
       "      <td>1.29</td>\n",
       "      <td>0.01</td>\n",
       "      <td>0.02</td>\n",
       "      <td>41.0</td>\n",
       "      <td>2.0</td>\n",
       "      <td>40.0</td>\n",
       "      <td>39.0</td>\n",
       "      <td>2.0</td>\n",
       "      <td>3.0</td>\n",
       "      <td>0.0</td>\n",
       "      <td>0.0</td>\n",
       "      <td>0.0</td>\n",
       "    </tr>\n",
       "    <tr>\n",
       "      <th>2</th>\n",
       "      <td>Afghanistan</td>\n",
       "      <td>Aliments pour enfants</td>\n",
       "      <td>vegetale</td>\n",
       "      <td>0.0</td>\n",
       "      <td>0.0</td>\n",
       "      <td>1.0</td>\n",
       "      <td>0.06</td>\n",
       "      <td>0.01</td>\n",
       "      <td>0.03</td>\n",
       "      <td>2.0</td>\n",
       "      <td>0.0</td>\n",
       "      <td>2.0</td>\n",
       "      <td>2.0</td>\n",
       "      <td>0.0</td>\n",
       "      <td>0.0</td>\n",
       "      <td>0.0</td>\n",
       "      <td>0.0</td>\n",
       "      <td>0.0</td>\n",
       "    </tr>\n",
       "    <tr>\n",
       "      <th>3</th>\n",
       "      <td>Afghanistan</td>\n",
       "      <td>Ananas</td>\n",
       "      <td>vegetale</td>\n",
       "      <td>0.0</td>\n",
       "      <td>0.0</td>\n",
       "      <td>0.0</td>\n",
       "      <td>0.00</td>\n",
       "      <td>0.00</td>\n",
       "      <td>0.00</td>\n",
       "      <td>0.0</td>\n",
       "      <td>0.0</td>\n",
       "      <td>0.0</td>\n",
       "      <td>0.0</td>\n",
       "      <td>0.0</td>\n",
       "      <td>0.0</td>\n",
       "      <td>0.0</td>\n",
       "      <td>0.0</td>\n",
       "      <td>0.0</td>\n",
       "    </tr>\n",
       "    <tr>\n",
       "      <th>4</th>\n",
       "      <td>Afghanistan</td>\n",
       "      <td>Bananes</td>\n",
       "      <td>vegetale</td>\n",
       "      <td>0.0</td>\n",
       "      <td>0.0</td>\n",
       "      <td>4.0</td>\n",
       "      <td>2.70</td>\n",
       "      <td>0.02</td>\n",
       "      <td>0.05</td>\n",
       "      <td>82.0</td>\n",
       "      <td>0.0</td>\n",
       "      <td>82.0</td>\n",
       "      <td>82.0</td>\n",
       "      <td>0.0</td>\n",
       "      <td>0.0</td>\n",
       "      <td>0.0</td>\n",
       "      <td>0.0</td>\n",
       "      <td>0.0</td>\n",
       "    </tr>\n",
       "  </tbody>\n",
       "</table>\n",
       "</div>"
      ],
      "text/plain": [
       "          Zone                Produit   Origine  Aliments pour animaux  \\\n",
       "0  Afghanistan       Abats Comestible   animale                    0.0   \n",
       "1  Afghanistan        Agrumes, Autres  vegetale                    0.0   \n",
       "2  Afghanistan  Aliments pour enfants  vegetale                    0.0   \n",
       "3  Afghanistan                 Ananas  vegetale                    0.0   \n",
       "4  Afghanistan                Bananes  vegetale                    0.0   \n",
       "\n",
       "   Autres Utilisations  Disponibilité alimentaire (Kcal/personne/jour)  \\\n",
       "0                  0.0                                             5.0   \n",
       "1                  0.0                                             1.0   \n",
       "2                  0.0                                             1.0   \n",
       "3                  0.0                                             0.0   \n",
       "4                  0.0                                             4.0   \n",
       "\n",
       "   Disponibilité alimentaire en quantité (kg/personne/an)  \\\n",
       "0                                               1.72        \n",
       "1                                               1.29        \n",
       "2                                               0.06        \n",
       "3                                               0.00        \n",
       "4                                               2.70        \n",
       "\n",
       "   Disponibilité de matière grasse en quantité (g/personne/jour)  \\\n",
       "0                                               0.20               \n",
       "1                                               0.01               \n",
       "2                                               0.01               \n",
       "3                                               0.00               \n",
       "4                                               0.02               \n",
       "\n",
       "   Disponibilité de protéines en quantité (g/personne/jour)  \\\n",
       "0                                               0.77          \n",
       "1                                               0.02          \n",
       "2                                               0.03          \n",
       "3                                               0.00          \n",
       "4                                               0.05          \n",
       "\n",
       "   Disponibilité intérieure  Exportations - Quantité  Importations - Quantité  \\\n",
       "0                      53.0                      0.0                      0.0   \n",
       "1                      41.0                      2.0                     40.0   \n",
       "2                       2.0                      0.0                      2.0   \n",
       "3                       0.0                      0.0                      0.0   \n",
       "4                      82.0                      0.0                     82.0   \n",
       "\n",
       "   Nourriture  Pertes  Production  Semences  Traitement  Variation de stock  \n",
       "0        53.0     0.0        53.0       0.0         0.0                 0.0  \n",
       "1        39.0     2.0         3.0       0.0         0.0                 0.0  \n",
       "2         2.0     0.0         0.0       0.0         0.0                 0.0  \n",
       "3         0.0     0.0         0.0       0.0         0.0                 0.0  \n",
       "4        82.0     0.0         0.0       0.0         0.0                 0.0  "
      ]
     },
     "execution_count": 102,
     "metadata": {},
     "output_type": "execute_result"
    }
   ],
   "source": [
    "# Affichons les 5 premières entrées pour avoir un aperçu de notre dataframe\n",
    "df_dispon_alim.head()"
   ]
  },
  {
   "cell_type": "code",
   "execution_count": 103,
   "id": "426c74da",
   "metadata": {},
   "outputs": [],
   "source": [
    "# Modifions les valeurs disponibilité alimentaire en milliers de tonnes\n",
    "df_dispon_alim[['Aliments pour animaux','Autres Utilisations','Disponibilité intérieure','Exportations - Quantité','Importations - Quantité','Nourriture','Pertes','Production','Semences','Traitement']] = df_dispon_alim[['Aliments pour animaux','Autres Utilisations','Disponibilité intérieure','Exportations - Quantité','Importations - Quantité','Nourriture','Pertes','Production','Semences','Traitement']]*1000000"
   ]
  },
  {
   "cell_type": "code",
   "execution_count": 104,
   "id": "2ef1821c",
   "metadata": {},
   "outputs": [
    {
     "data": {
      "text/html": [
       "<div>\n",
       "<style scoped>\n",
       "    .dataframe tbody tr th:only-of-type {\n",
       "        vertical-align: middle;\n",
       "    }\n",
       "\n",
       "    .dataframe tbody tr th {\n",
       "        vertical-align: top;\n",
       "    }\n",
       "\n",
       "    .dataframe thead th {\n",
       "        text-align: right;\n",
       "    }\n",
       "</style>\n",
       "<table border=\"1\" class=\"dataframe\">\n",
       "  <thead>\n",
       "    <tr style=\"text-align: right;\">\n",
       "      <th></th>\n",
       "      <th>Disponibilité intérieure</th>\n",
       "      <th>Exportations - Quantité</th>\n",
       "      <th>Importations - Quantité</th>\n",
       "      <th>Nourriture</th>\n",
       "      <th>Production</th>\n",
       "    </tr>\n",
       "  </thead>\n",
       "  <tbody>\n",
       "    <tr>\n",
       "      <th>0</th>\n",
       "      <td>53000000.0</td>\n",
       "      <td>0.0</td>\n",
       "      <td>0.0</td>\n",
       "      <td>53000000.0</td>\n",
       "      <td>53000000.0</td>\n",
       "    </tr>\n",
       "    <tr>\n",
       "      <th>1</th>\n",
       "      <td>41000000.0</td>\n",
       "      <td>2000000.0</td>\n",
       "      <td>40000000.0</td>\n",
       "      <td>39000000.0</td>\n",
       "      <td>3000000.0</td>\n",
       "    </tr>\n",
       "    <tr>\n",
       "      <th>2</th>\n",
       "      <td>2000000.0</td>\n",
       "      <td>0.0</td>\n",
       "      <td>2000000.0</td>\n",
       "      <td>2000000.0</td>\n",
       "      <td>0.0</td>\n",
       "    </tr>\n",
       "    <tr>\n",
       "      <th>3</th>\n",
       "      <td>0.0</td>\n",
       "      <td>0.0</td>\n",
       "      <td>0.0</td>\n",
       "      <td>0.0</td>\n",
       "      <td>0.0</td>\n",
       "    </tr>\n",
       "    <tr>\n",
       "      <th>4</th>\n",
       "      <td>82000000.0</td>\n",
       "      <td>0.0</td>\n",
       "      <td>82000000.0</td>\n",
       "      <td>82000000.0</td>\n",
       "      <td>0.0</td>\n",
       "    </tr>\n",
       "  </tbody>\n",
       "</table>\n",
       "</div>"
      ],
      "text/plain": [
       "   Disponibilité intérieure  Exportations - Quantité  Importations - Quantité  \\\n",
       "0                53000000.0                      0.0                      0.0   \n",
       "1                41000000.0                2000000.0               40000000.0   \n",
       "2                 2000000.0                      0.0                2000000.0   \n",
       "3                       0.0                      0.0                      0.0   \n",
       "4                82000000.0                      0.0               82000000.0   \n",
       "\n",
       "   Nourriture  Production  \n",
       "0  53000000.0  53000000.0  \n",
       "1  39000000.0   3000000.0  \n",
       "2   2000000.0         0.0  \n",
       "3         0.0         0.0  \n",
       "4  82000000.0         0.0  "
      ]
     },
     "execution_count": 104,
     "metadata": {},
     "output_type": "execute_result"
    }
   ],
   "source": [
    "# Vérifions le changement de nos valeurs en milliers de tonnes\n",
    "df_dispon_alim[['Disponibilité intérieure','Exportations - Quantité','Importations - Quantité','Nourriture','Production',]].head()"
   ]
  },
  {
   "cell_type": "code",
   "execution_count": 105,
   "id": "956e9c74",
   "metadata": {},
   "outputs": [],
   "source": [
    "# Renommons le titre de ma colonne'zone'\n",
    "df_dispon_alim.rename(columns={'Zone':'Pays','Aliments pour animaux':'Aliments_Animaux','Autres Utilisations':'Autres_utilisations','Disponibilité alimentaire (Kcal/personne/jour)':'Dispo_alim_kcal','Disponibilité alimentaire en quantité (kg/personne/an)':'Dispo_alim_qte','Disponibilité de matière grasse en quantité (g/personne/jour)':'Dispo_mat_gras_qte','Disponibilité de protéines en quantité (g/personne/jour)':'Dispo_prot_qte','Disponibilité intérieure':'Dispo_inter','Exportations - Quantité':'Export_qte','Importations - Quantité':'Import_qte','Variation de stock':'Var_stock'},inplace=True)"
   ]
  },
  {
   "cell_type": "code",
   "execution_count": 106,
   "id": "8a3e9d53",
   "metadata": {},
   "outputs": [
    {
     "data": {
      "text/plain": [
       "Index(['Pays', 'Produit', 'Origine', 'Aliments_Animaux', 'Autres_utilisations',\n",
       "       'Dispo_alim_kcal', 'Dispo_alim_qte', 'Dispo_mat_gras_qte',\n",
       "       'Dispo_prot_qte', 'Dispo_inter', 'Export_qte', 'Import_qte',\n",
       "       'Nourriture', 'Pertes', 'Production', 'Semences', 'Traitement',\n",
       "       'Var_stock'],\n",
       "      dtype='object')"
      ]
     },
     "execution_count": 106,
     "metadata": {},
     "output_type": "execute_result"
    }
   ],
   "source": [
    "# Affichons les colonnes de la dataframe\n",
    "df_dispon_alim.columns"
   ]
  },
  {
   "cell_type": "markdown",
   "id": "ca466e00",
   "metadata": {},
   "source": [
    "#### II.2.3. Sous nutrition"
   ]
  },
  {
   "cell_type": "code",
   "execution_count": 107,
   "id": "0a05114c",
   "metadata": {},
   "outputs": [
    {
     "data": {
      "text/html": [
       "<div>\n",
       "<style scoped>\n",
       "    .dataframe tbody tr th:only-of-type {\n",
       "        vertical-align: middle;\n",
       "    }\n",
       "\n",
       "    .dataframe tbody tr th {\n",
       "        vertical-align: top;\n",
       "    }\n",
       "\n",
       "    .dataframe thead th {\n",
       "        text-align: right;\n",
       "    }\n",
       "</style>\n",
       "<table border=\"1\" class=\"dataframe\">\n",
       "  <thead>\n",
       "    <tr style=\"text-align: right;\">\n",
       "      <th></th>\n",
       "      <th>Zone</th>\n",
       "      <th>Année</th>\n",
       "      <th>Valeur</th>\n",
       "    </tr>\n",
       "  </thead>\n",
       "  <tbody>\n",
       "    <tr>\n",
       "      <th>0</th>\n",
       "      <td>Afghanistan</td>\n",
       "      <td>2012-2014</td>\n",
       "      <td>8.6</td>\n",
       "    </tr>\n",
       "    <tr>\n",
       "      <th>1</th>\n",
       "      <td>Afghanistan</td>\n",
       "      <td>2013-2015</td>\n",
       "      <td>8.8</td>\n",
       "    </tr>\n",
       "    <tr>\n",
       "      <th>2</th>\n",
       "      <td>Afghanistan</td>\n",
       "      <td>2014-2016</td>\n",
       "      <td>8.9</td>\n",
       "    </tr>\n",
       "    <tr>\n",
       "      <th>3</th>\n",
       "      <td>Afghanistan</td>\n",
       "      <td>2015-2017</td>\n",
       "      <td>9.7</td>\n",
       "    </tr>\n",
       "    <tr>\n",
       "      <th>4</th>\n",
       "      <td>Afghanistan</td>\n",
       "      <td>2016-2018</td>\n",
       "      <td>10.5</td>\n",
       "    </tr>\n",
       "  </tbody>\n",
       "</table>\n",
       "</div>"
      ],
      "text/plain": [
       "          Zone      Année Valeur\n",
       "0  Afghanistan  2012-2014    8.6\n",
       "1  Afghanistan  2013-2015    8.8\n",
       "2  Afghanistan  2014-2016    8.9\n",
       "3  Afghanistan  2015-2017    9.7\n",
       "4  Afghanistan  2016-2018   10.5"
      ]
     },
     "execution_count": 107,
     "metadata": {},
     "output_type": "execute_result"
    }
   ],
   "source": [
    "# Affichons les 5 premières entrées pour avoir un aperçu de notre dataframe\n",
    "df_sous_nutrition.head()"
   ]
  },
  {
   "cell_type": "code",
   "execution_count": 108,
   "id": "8a920e69",
   "metadata": {},
   "outputs": [
    {
     "data": {
      "text/plain": [
       "(1218, 3)"
      ]
     },
     "execution_count": 108,
     "metadata": {},
     "output_type": "execute_result"
    }
   ],
   "source": [
    "# Affichons le nombre de lignes et de colonnes\n",
    "df_sous_nutrition.shape"
   ]
  },
  {
   "cell_type": "code",
   "execution_count": 109,
   "id": "b5df4a9b",
   "metadata": {},
   "outputs": [
    {
     "data": {
      "text/plain": [
       "Zone      object\n",
       "Année     object\n",
       "Valeur    object\n",
       "dtype: object"
      ]
     },
     "execution_count": 109,
     "metadata": {},
     "output_type": "execute_result"
    }
   ],
   "source": [
    "# Vérifions le type de données de notre dataframe\n",
    "df_sous_nutrition.dtypes"
   ]
  },
  {
   "cell_type": "code",
   "execution_count": 110,
   "id": "74b4e85a",
   "metadata": {},
   "outputs": [],
   "source": [
    "# Renommons le titre de la colonne'zone' et 'valeur'\n",
    "df_sous_nutrition.rename(columns={'Zone':'Pays','Valeur':'Nombre_personnes'},inplace=True)"
   ]
  },
  {
   "cell_type": "code",
   "execution_count": 111,
   "id": "8037c21b",
   "metadata": {},
   "outputs": [
    {
     "data": {
      "text/plain": [
       "Index(['Pays', 'Année', 'Nombre_personnes'], dtype='object')"
      ]
     },
     "execution_count": 111,
     "metadata": {},
     "output_type": "execute_result"
    }
   ],
   "source": [
    "df_sous_nutrition.columns"
   ]
  },
  {
   "cell_type": "code",
   "execution_count": 112,
   "id": "ee1dcba6",
   "metadata": {},
   "outputs": [
    {
     "data": {
      "text/plain": [
       "Pays                  0\n",
       "Année                 0\n",
       "Nombre_personnes    594\n",
       "dtype: int64"
      ]
     },
     "execution_count": 112,
     "metadata": {},
     "output_type": "execute_result"
    }
   ],
   "source": [
    "# Recherchons les valeurs manquantes\n",
    "df_sous_nutrition.isnull().sum()"
   ]
  },
  {
   "cell_type": "code",
   "execution_count": 117,
   "id": "9d101198",
   "metadata": {},
   "outputs": [],
   "source": [
    "# Remplacons les valeurs nulles par 0\n",
    "df_sous_nutrition['Nombre_personnes'] = df_sous_nutrition['Nombre_personnes'].fillna(0)"
   ]
  },
  {
   "cell_type": "code",
   "execution_count": 38,
   "id": "d32c02ee",
   "metadata": {},
   "outputs": [
    {
     "data": {
      "text/plain": [
       "0"
      ]
     },
     "execution_count": 38,
     "metadata": {},
     "output_type": "execute_result"
    }
   ],
   "source": [
    "df_sous_nutrition['Nombre_personnes'].isnull().sum()"
   ]
  },
  {
   "cell_type": "code",
   "execution_count": 115,
   "id": "96dcb1c0",
   "metadata": {},
   "outputs": [
    {
     "name": "stderr",
     "output_type": "stream",
     "text": [
      "C:\\Users\\moust\\AppData\\Local\\Temp/ipykernel_2744/3224682073.py:2: FutureWarning: The default value of regex will change from True to False in a future version.\n",
      "  df_sous_nutrition['Nombre_personnes'] = df_sous_nutrition['Nombre_personnes'].str.replace('<0.1','0').astype(float)\n"
     ]
    }
   ],
   "source": [
    "# Modifions le type de la colonne 'Nombre_personnes' en float  car les valeurs  sont en str    \n",
    "df_sous_nutrition['Nombre_personnes'] = df_sous_nutrition['Nombre_personnes'].str.replace('<0.1','0').astype(float)"
   ]
  },
  {
   "cell_type": "code",
   "execution_count": 118,
   "id": "2ce37874",
   "metadata": {},
   "outputs": [
    {
     "data": {
      "text/plain": [
       "0.0      714\n",
       "0.3       48\n",
       "0.4       32\n",
       "0.2       28\n",
       "1.5       20\n",
       "        ... \n",
       "3.7        1\n",
       "24.1       1\n",
       "189.2      1\n",
       "190.1      1\n",
       "8.3        1\n",
       "Name: Nombre_personnes, Length: 139, dtype: int64"
      ]
     },
     "execution_count": 118,
     "metadata": {},
     "output_type": "execute_result"
    }
   ],
   "source": [
    "# Vérifions le nombre de nos valeurs nulles 594 plus les 120 (<0.1)\n",
    "df_sous_nutrition['Nombre_personnes'].value_counts()"
   ]
  },
  {
   "cell_type": "code",
   "execution_count": 119,
   "id": "c1020d55",
   "metadata": {},
   "outputs": [
    {
     "data": {
      "text/plain": [
       "0"
      ]
     },
     "execution_count": 119,
     "metadata": {},
     "output_type": "execute_result"
    }
   ],
   "source": [
    "# Vérifions qu'il n y ait pas des valeurs nulles \n",
    "df_sous_nutrition['Nombre_personnes'].isnull().sum()"
   ]
  },
  {
   "cell_type": "code",
   "execution_count": 554,
   "id": "8d04e7a4",
   "metadata": {},
   "outputs": [
    {
     "data": {
      "text/plain": [
       "0       8.600000e+12\n",
       "1       8.800000e+12\n",
       "2       8.900000e+12\n",
       "3       9.700000e+12\n",
       "4       1.050000e+13\n",
       "            ...     \n",
       "1213    0.000000e+00\n",
       "1214    0.000000e+00\n",
       "1215    0.000000e+00\n",
       "1216    0.000000e+00\n",
       "1217    0.000000e+00\n",
       "Name: Nombre_personnes, Length: 1218, dtype: float64"
      ]
     },
     "execution_count": 554,
     "metadata": {},
     "output_type": "execute_result"
    }
   ],
   "source": [
    "# Modifions les valeurs 'Nombre_personnes' en millions d'habitants\n",
    "df_sous_nutrition['Nombre_personnes'] = df_sous_nutrition['Nombre_personnes']*1000000\n",
    "df_sous_nutrition['Nombre_personnes']"
   ]
  },
  {
   "cell_type": "code",
   "execution_count": 121,
   "id": "7bb5dc1a",
   "metadata": {},
   "outputs": [
    {
     "data": {
      "text/plain": [
       "Pays                 object\n",
       "Année                object\n",
       "Nombre_personnes    float64\n",
       "dtype: object"
      ]
     },
     "execution_count": 121,
     "metadata": {},
     "output_type": "execute_result"
    }
   ],
   "source": [
    "# Vérifions le changement du type de données de notre colonne 'Nombre de personnes'\n",
    "df_sous_nutrition.dtypes"
   ]
  },
  {
   "cell_type": "markdown",
   "id": "30984745",
   "metadata": {},
   "source": [
    "#### II.2.4. Aide alimentaire"
   ]
  },
  {
   "cell_type": "code",
   "execution_count": 122,
   "id": "dd792827",
   "metadata": {},
   "outputs": [
    {
     "data": {
      "text/html": [
       "<div>\n",
       "<style scoped>\n",
       "    .dataframe tbody tr th:only-of-type {\n",
       "        vertical-align: middle;\n",
       "    }\n",
       "\n",
       "    .dataframe tbody tr th {\n",
       "        vertical-align: top;\n",
       "    }\n",
       "\n",
       "    .dataframe thead th {\n",
       "        text-align: right;\n",
       "    }\n",
       "</style>\n",
       "<table border=\"1\" class=\"dataframe\">\n",
       "  <thead>\n",
       "    <tr style=\"text-align: right;\">\n",
       "      <th></th>\n",
       "      <th>Pays bénéficiaire</th>\n",
       "      <th>Année</th>\n",
       "      <th>Produit</th>\n",
       "      <th>Valeur</th>\n",
       "    </tr>\n",
       "  </thead>\n",
       "  <tbody>\n",
       "    <tr>\n",
       "      <th>0</th>\n",
       "      <td>Afghanistan</td>\n",
       "      <td>2013</td>\n",
       "      <td>Autres non-céréales</td>\n",
       "      <td>682</td>\n",
       "    </tr>\n",
       "    <tr>\n",
       "      <th>1</th>\n",
       "      <td>Afghanistan</td>\n",
       "      <td>2014</td>\n",
       "      <td>Autres non-céréales</td>\n",
       "      <td>335</td>\n",
       "    </tr>\n",
       "    <tr>\n",
       "      <th>2</th>\n",
       "      <td>Afghanistan</td>\n",
       "      <td>2013</td>\n",
       "      <td>Blé et Farin</td>\n",
       "      <td>39224</td>\n",
       "    </tr>\n",
       "    <tr>\n",
       "      <th>3</th>\n",
       "      <td>Afghanistan</td>\n",
       "      <td>2014</td>\n",
       "      <td>Blé et Farin</td>\n",
       "      <td>15160</td>\n",
       "    </tr>\n",
       "    <tr>\n",
       "      <th>4</th>\n",
       "      <td>Afghanistan</td>\n",
       "      <td>2013</td>\n",
       "      <td>Céréales</td>\n",
       "      <td>40504</td>\n",
       "    </tr>\n",
       "  </tbody>\n",
       "</table>\n",
       "</div>"
      ],
      "text/plain": [
       "  Pays bénéficiaire  Année              Produit  Valeur\n",
       "0       Afghanistan   2013  Autres non-céréales     682\n",
       "1       Afghanistan   2014  Autres non-céréales     335\n",
       "2       Afghanistan   2013         Blé et Farin   39224\n",
       "3       Afghanistan   2014         Blé et Farin   15160\n",
       "4       Afghanistan   2013             Céréales   40504"
      ]
     },
     "execution_count": 122,
     "metadata": {},
     "output_type": "execute_result"
    }
   ],
   "source": [
    "# Affichons les 5 premières entrées pour avoir un aperçu de notre dataframe\n",
    "df_aide_alim.head()"
   ]
  },
  {
   "cell_type": "code",
   "execution_count": 123,
   "id": "cebd61ab",
   "metadata": {},
   "outputs": [
    {
     "data": {
      "text/plain": [
       "(1475, 4)"
      ]
     },
     "execution_count": 123,
     "metadata": {},
     "output_type": "execute_result"
    }
   ],
   "source": [
    "# Affichons le nombre de lignes et de colonnes\n",
    "df_aide_alim.shape"
   ]
  },
  {
   "cell_type": "code",
   "execution_count": 124,
   "id": "242603b0",
   "metadata": {},
   "outputs": [
    {
     "data": {
      "text/plain": [
       "Pays bénéficiaire    object\n",
       "Année                 int64\n",
       "Produit              object\n",
       "Valeur                int64\n",
       "dtype: object"
      ]
     },
     "execution_count": 124,
     "metadata": {},
     "output_type": "execute_result"
    }
   ],
   "source": [
    "# Vérifions le type de données de notre dataframe\n",
    "df_aide_alim.dtypes"
   ]
  },
  {
   "cell_type": "code",
   "execution_count": 125,
   "id": "f66ba0c5",
   "metadata": {},
   "outputs": [],
   "source": [
    "# Renommons le titre de la colonne 'valeur' en 'Quantité'\n",
    "df_aide_alim.rename(columns={'Valeur':'Quantité'},inplace=True)"
   ]
  },
  {
   "cell_type": "code",
   "execution_count": 126,
   "id": "62a4c8a5",
   "metadata": {},
   "outputs": [
    {
     "data": {
      "text/plain": [
       "Index(['Pays bénéficiaire', 'Année', 'Produit', 'Quantité'], dtype='object')"
      ]
     },
     "execution_count": 126,
     "metadata": {},
     "output_type": "execute_result"
    }
   ],
   "source": [
    "# Affichons les colonnes de la dataframe\n",
    "df_aide_alim.columns"
   ]
  },
  {
   "cell_type": "code",
   "execution_count": 127,
   "id": "cbe227ca",
   "metadata": {},
   "outputs": [
    {
     "data": {
      "text/plain": [
       "Pays bénéficiaire    0\n",
       "Année                0\n",
       "Produit              0\n",
       "Quantité             0\n",
       "dtype: int64"
      ]
     },
     "execution_count": 127,
     "metadata": {},
     "output_type": "execute_result"
    }
   ],
   "source": [
    "# Recherchons les valeurs manquantes\n",
    "df_aide_alim.isnull().sum()"
   ]
  },
  {
   "cell_type": "code",
   "execution_count": 128,
   "id": "d3a5bdf8",
   "metadata": {},
   "outputs": [],
   "source": [
    "# Modifions la colonne 'Quantité' en tonnes\n",
    "df_aide_alim['Quantité'] = df_aide_alim['Quantité'] * 1000"
   ]
  },
  {
   "cell_type": "code",
   "execution_count": 129,
   "id": "10f1b8e3",
   "metadata": {},
   "outputs": [
    {
     "data": {
      "text/plain": [
       "0      682000\n",
       "1      335000\n",
       "2    39224000\n",
       "3    15160000\n",
       "4    40504000\n",
       "Name: Quantité, dtype: int64"
      ]
     },
     "execution_count": 129,
     "metadata": {},
     "output_type": "execute_result"
    }
   ],
   "source": [
    "# Vérifions le changement de ma colonne 'Quantité' en tonnes\n",
    "df_aide_alim['Quantité'].head(5)"
   ]
  },
  {
   "cell_type": "markdown",
   "id": "bc61ec74",
   "metadata": {},
   "source": [
    "### Deuxième Partie - Demandes de Marc, Melanie et notes de Julien\n"
   ]
  },
  {
   "cell_type": "markdown",
   "id": "9679fe7d",
   "metadata": {},
   "source": [
    "### I. Demandes de Marc"
   ]
  },
  {
   "cell_type": "markdown",
   "id": "bc6c0aa9",
   "metadata": {},
   "source": [
    "#### I.1. Proportion de personnes en état de sous-nutrition en 2017"
   ]
  },
  {
   "cell_type": "code",
   "execution_count": 435,
   "id": "6a18f450",
   "metadata": {},
   "outputs": [
    {
     "data": {
      "text/html": [
       "<div>\n",
       "<style scoped>\n",
       "    .dataframe tbody tr th:only-of-type {\n",
       "        vertical-align: middle;\n",
       "    }\n",
       "\n",
       "    .dataframe tbody tr th {\n",
       "        vertical-align: top;\n",
       "    }\n",
       "\n",
       "    .dataframe thead th {\n",
       "        text-align: right;\n",
       "    }\n",
       "</style>\n",
       "<table border=\"1\" class=\"dataframe\">\n",
       "  <thead>\n",
       "    <tr style=\"text-align: right;\">\n",
       "      <th></th>\n",
       "      <th>Année</th>\n",
       "      <th>Nombre_personnes</th>\n",
       "    </tr>\n",
       "  </thead>\n",
       "  <tbody>\n",
       "    <tr>\n",
       "      <th>0</th>\n",
       "      <td>2012-2014</td>\n",
       "      <td>8600000.0</td>\n",
       "    </tr>\n",
       "    <tr>\n",
       "      <th>1</th>\n",
       "      <td>2013-2015</td>\n",
       "      <td>8800000.0</td>\n",
       "    </tr>\n",
       "    <tr>\n",
       "      <th>2</th>\n",
       "      <td>2014-2016</td>\n",
       "      <td>8900000.0</td>\n",
       "    </tr>\n",
       "    <tr>\n",
       "      <th>3</th>\n",
       "      <td>2015-2017</td>\n",
       "      <td>9700000.0</td>\n",
       "    </tr>\n",
       "    <tr>\n",
       "      <th>4</th>\n",
       "      <td>2016-2018</td>\n",
       "      <td>10500000.0</td>\n",
       "    </tr>\n",
       "    <tr>\n",
       "      <th>...</th>\n",
       "      <td>...</td>\n",
       "      <td>...</td>\n",
       "    </tr>\n",
       "    <tr>\n",
       "      <th>1213</th>\n",
       "      <td>2013-2015</td>\n",
       "      <td>0.0</td>\n",
       "    </tr>\n",
       "    <tr>\n",
       "      <th>1214</th>\n",
       "      <td>2014-2016</td>\n",
       "      <td>0.0</td>\n",
       "    </tr>\n",
       "    <tr>\n",
       "      <th>1215</th>\n",
       "      <td>2015-2017</td>\n",
       "      <td>0.0</td>\n",
       "    </tr>\n",
       "    <tr>\n",
       "      <th>1216</th>\n",
       "      <td>2016-2018</td>\n",
       "      <td>0.0</td>\n",
       "    </tr>\n",
       "    <tr>\n",
       "      <th>1217</th>\n",
       "      <td>2017-2019</td>\n",
       "      <td>0.0</td>\n",
       "    </tr>\n",
       "  </tbody>\n",
       "</table>\n",
       "<p>1218 rows × 2 columns</p>\n",
       "</div>"
      ],
      "text/plain": [
       "          Année  Nombre_personnes\n",
       "0     2012-2014         8600000.0\n",
       "1     2013-2015         8800000.0\n",
       "2     2014-2016         8900000.0\n",
       "3     2015-2017         9700000.0\n",
       "4     2016-2018        10500000.0\n",
       "...         ...               ...\n",
       "1213  2013-2015               0.0\n",
       "1214  2014-2016               0.0\n",
       "1215  2015-2017               0.0\n",
       "1216  2016-2018               0.0\n",
       "1217  2017-2019               0.0\n",
       "\n",
       "[1218 rows x 2 columns]"
      ]
     },
     "execution_count": 435,
     "metadata": {},
     "output_type": "execute_result"
    }
   ],
   "source": [
    "# Affichons notre dataframe en selectionnant les colonnes necessaires\n",
    "df_sous_nutrition[['Année','Nombre_personnes']]"
   ]
  },
  {
   "cell_type": "code",
   "execution_count": 436,
   "id": "85fc1832",
   "metadata": {},
   "outputs": [
    {
     "data": {
      "text/html": [
       "<div>\n",
       "<style scoped>\n",
       "    .dataframe tbody tr th:only-of-type {\n",
       "        vertical-align: middle;\n",
       "    }\n",
       "\n",
       "    .dataframe tbody tr th {\n",
       "        vertical-align: top;\n",
       "    }\n",
       "\n",
       "    .dataframe thead th {\n",
       "        text-align: right;\n",
       "    }\n",
       "</style>\n",
       "<table border=\"1\" class=\"dataframe\">\n",
       "  <thead>\n",
       "    <tr style=\"text-align: right;\">\n",
       "      <th></th>\n",
       "      <th>Pays</th>\n",
       "      <th>Nombre_personnes</th>\n",
       "    </tr>\n",
       "    <tr>\n",
       "      <th>Année</th>\n",
       "      <th></th>\n",
       "      <th></th>\n",
       "    </tr>\n",
       "  </thead>\n",
       "  <tbody>\n",
       "    <tr>\n",
       "      <th>2012-2014</th>\n",
       "      <td>Afghanistan</td>\n",
       "      <td>8600000.0</td>\n",
       "    </tr>\n",
       "    <tr>\n",
       "      <th>2013-2015</th>\n",
       "      <td>Afghanistan</td>\n",
       "      <td>8800000.0</td>\n",
       "    </tr>\n",
       "    <tr>\n",
       "      <th>2014-2016</th>\n",
       "      <td>Afghanistan</td>\n",
       "      <td>8900000.0</td>\n",
       "    </tr>\n",
       "    <tr>\n",
       "      <th>2015-2017</th>\n",
       "      <td>Afghanistan</td>\n",
       "      <td>9700000.0</td>\n",
       "    </tr>\n",
       "    <tr>\n",
       "      <th>2016-2018</th>\n",
       "      <td>Afghanistan</td>\n",
       "      <td>10500000.0</td>\n",
       "    </tr>\n",
       "    <tr>\n",
       "      <th>...</th>\n",
       "      <td>...</td>\n",
       "      <td>...</td>\n",
       "    </tr>\n",
       "    <tr>\n",
       "      <th>2013-2015</th>\n",
       "      <td>Zimbabwe</td>\n",
       "      <td>0.0</td>\n",
       "    </tr>\n",
       "    <tr>\n",
       "      <th>2014-2016</th>\n",
       "      <td>Zimbabwe</td>\n",
       "      <td>0.0</td>\n",
       "    </tr>\n",
       "    <tr>\n",
       "      <th>2015-2017</th>\n",
       "      <td>Zimbabwe</td>\n",
       "      <td>0.0</td>\n",
       "    </tr>\n",
       "    <tr>\n",
       "      <th>2016-2018</th>\n",
       "      <td>Zimbabwe</td>\n",
       "      <td>0.0</td>\n",
       "    </tr>\n",
       "    <tr>\n",
       "      <th>2017-2019</th>\n",
       "      <td>Zimbabwe</td>\n",
       "      <td>0.0</td>\n",
       "    </tr>\n",
       "  </tbody>\n",
       "</table>\n",
       "<p>1218 rows × 2 columns</p>\n",
       "</div>"
      ],
      "text/plain": [
       "                  Pays  Nombre_personnes\n",
       "Année                                   \n",
       "2012-2014  Afghanistan         8600000.0\n",
       "2013-2015  Afghanistan         8800000.0\n",
       "2014-2016  Afghanistan         8900000.0\n",
       "2015-2017  Afghanistan         9700000.0\n",
       "2016-2018  Afghanistan        10500000.0\n",
       "...                ...               ...\n",
       "2013-2015     Zimbabwe               0.0\n",
       "2014-2016     Zimbabwe               0.0\n",
       "2015-2017     Zimbabwe               0.0\n",
       "2016-2018     Zimbabwe               0.0\n",
       "2017-2019     Zimbabwe               0.0\n",
       "\n",
       "[1218 rows x 2 columns]"
      ]
     },
     "execution_count": 436,
     "metadata": {},
     "output_type": "execute_result"
    }
   ],
   "source": [
    "### Modifions l'index dans un premier temps pour mieux localiser notre colonne 'Année'\n",
    "df_sous_nutrition_prop = df_sous_nutrition.set_index('Année')\n",
    "df_sous_nutrition_prop"
   ]
  },
  {
   "cell_type": "code",
   "execution_count": 437,
   "id": "854bdbc5",
   "metadata": {},
   "outputs": [
    {
     "data": {
      "text/plain": [
       "535700000.0"
      ]
     },
     "execution_count": 437,
     "metadata": {},
     "output_type": "execute_result"
    }
   ],
   "source": [
    "# Determinons le nombre de personnes en etat de sous_nutrition pour l'année 2017\n",
    "df_sous_nutrition_prop.loc['2016-2018', 'Nombre_personnes'].sum()"
   ]
  },
  {
   "cell_type": "code",
   "execution_count": 438,
   "id": "ddbbba5d",
   "metadata": {},
   "outputs": [],
   "source": [
    "# Filtrons notre population pour l'année 2017\n",
    "df_population_2017 = df_population[df_population.Année==2017] "
   ]
  },
  {
   "cell_type": "code",
   "execution_count": 547,
   "id": "c7af0e2e",
   "metadata": {},
   "outputs": [
    {
     "data": {
      "text/plain": [
       "7548134097"
      ]
     },
     "execution_count": 547,
     "metadata": {},
     "output_type": "execute_result"
    }
   ],
   "source": [
    "# Determinons le nombre d'habitants  pour l'année 2017\n",
    "df_population_2017.Nombre_habitants.sum()"
   ]
  },
  {
   "cell_type": "code",
   "execution_count": 545,
   "id": "2f89c662",
   "metadata": {},
   "outputs": [
    {
     "name": "stdout",
     "output_type": "stream",
     "text": [
      "La proportion des personnes en état de sous_nutrition dans le monde est de 7.10%\n"
     ]
    }
   ],
   "source": [
    "# Calculons le rapport entre personnes en état de sous_nutrition et la population pour l'année 2017\n",
    "proportion_personnes_etat_sous_nutrition = round(df_sous_nutrition_prop.loc['2016-2018', 'Nombre_personnes'].sum() * 100 / df_population_2017.Nombre_habitants.sum(),2)\n",
    "proportion_personnes_etat_sous_nutrition\n",
    "print(f'La proportion des personnes en état de sous_nutrition dans le monde est de {proportion_personnes_etat_sous_nutrition:.2f}%')"
   ]
  },
  {
   "cell_type": "markdown",
   "id": "187468b8",
   "metadata": {},
   "source": [
    "#### I.2. Le nombre théorique de personnes qui pourraient être nourries en 2017"
   ]
  },
  {
   "cell_type": "code",
   "execution_count": 136,
   "id": "f1f060fe",
   "metadata": {},
   "outputs": [],
   "source": [
    "#Fusionnons nos 2 dataframes sur une colonne commune 'Pays'\n",
    "dispo_alimentaire = df_dispon_alim.merge(df_population_2017, on='Pays', how='inner')"
   ]
  },
  {
   "cell_type": "code",
   "execution_count": 137,
   "id": "dc1c129a",
   "metadata": {},
   "outputs": [
    {
     "data": {
      "text/html": [
       "<div>\n",
       "<style scoped>\n",
       "    .dataframe tbody tr th:only-of-type {\n",
       "        vertical-align: middle;\n",
       "    }\n",
       "\n",
       "    .dataframe tbody tr th {\n",
       "        vertical-align: top;\n",
       "    }\n",
       "\n",
       "    .dataframe thead th {\n",
       "        text-align: right;\n",
       "    }\n",
       "</style>\n",
       "<table border=\"1\" class=\"dataframe\">\n",
       "  <thead>\n",
       "    <tr style=\"text-align: right;\">\n",
       "      <th></th>\n",
       "      <th>Pays</th>\n",
       "      <th>Produit</th>\n",
       "      <th>Origine</th>\n",
       "      <th>Aliments_Animaux</th>\n",
       "      <th>Autres_utilisations</th>\n",
       "      <th>Dispo_alim_kcal</th>\n",
       "      <th>Dispo_alim_qte</th>\n",
       "      <th>Dispo_mat_gras_qte</th>\n",
       "      <th>Dispo_prot_qte</th>\n",
       "      <th>Dispo_inter</th>\n",
       "      <th>Export_qte</th>\n",
       "      <th>Import_qte</th>\n",
       "      <th>Nourriture</th>\n",
       "      <th>Pertes</th>\n",
       "      <th>Production</th>\n",
       "      <th>Semences</th>\n",
       "      <th>Traitement</th>\n",
       "      <th>Var_stock</th>\n",
       "      <th>Année</th>\n",
       "      <th>Nombre_habitants</th>\n",
       "    </tr>\n",
       "  </thead>\n",
       "  <tbody>\n",
       "    <tr>\n",
       "      <th>0</th>\n",
       "      <td>Afghanistan</td>\n",
       "      <td>Abats Comestible</td>\n",
       "      <td>animale</td>\n",
       "      <td>0.0</td>\n",
       "      <td>0.0</td>\n",
       "      <td>5.0</td>\n",
       "      <td>1.72</td>\n",
       "      <td>0.20</td>\n",
       "      <td>0.77</td>\n",
       "      <td>53000000.0</td>\n",
       "      <td>0.0</td>\n",
       "      <td>0.0</td>\n",
       "      <td>53000000.0</td>\n",
       "      <td>0.0</td>\n",
       "      <td>53000000.0</td>\n",
       "      <td>0.0</td>\n",
       "      <td>0.0</td>\n",
       "      <td>0.0</td>\n",
       "      <td>2017</td>\n",
       "      <td>36296113</td>\n",
       "    </tr>\n",
       "    <tr>\n",
       "      <th>1</th>\n",
       "      <td>Afghanistan</td>\n",
       "      <td>Agrumes, Autres</td>\n",
       "      <td>vegetale</td>\n",
       "      <td>0.0</td>\n",
       "      <td>0.0</td>\n",
       "      <td>1.0</td>\n",
       "      <td>1.29</td>\n",
       "      <td>0.01</td>\n",
       "      <td>0.02</td>\n",
       "      <td>41000000.0</td>\n",
       "      <td>2000000.0</td>\n",
       "      <td>40000000.0</td>\n",
       "      <td>39000000.0</td>\n",
       "      <td>2000000.0</td>\n",
       "      <td>3000000.0</td>\n",
       "      <td>0.0</td>\n",
       "      <td>0.0</td>\n",
       "      <td>0.0</td>\n",
       "      <td>2017</td>\n",
       "      <td>36296113</td>\n",
       "    </tr>\n",
       "    <tr>\n",
       "      <th>2</th>\n",
       "      <td>Afghanistan</td>\n",
       "      <td>Aliments pour enfants</td>\n",
       "      <td>vegetale</td>\n",
       "      <td>0.0</td>\n",
       "      <td>0.0</td>\n",
       "      <td>1.0</td>\n",
       "      <td>0.06</td>\n",
       "      <td>0.01</td>\n",
       "      <td>0.03</td>\n",
       "      <td>2000000.0</td>\n",
       "      <td>0.0</td>\n",
       "      <td>2000000.0</td>\n",
       "      <td>2000000.0</td>\n",
       "      <td>0.0</td>\n",
       "      <td>0.0</td>\n",
       "      <td>0.0</td>\n",
       "      <td>0.0</td>\n",
       "      <td>0.0</td>\n",
       "      <td>2017</td>\n",
       "      <td>36296113</td>\n",
       "    </tr>\n",
       "    <tr>\n",
       "      <th>3</th>\n",
       "      <td>Afghanistan</td>\n",
       "      <td>Ananas</td>\n",
       "      <td>vegetale</td>\n",
       "      <td>0.0</td>\n",
       "      <td>0.0</td>\n",
       "      <td>0.0</td>\n",
       "      <td>0.00</td>\n",
       "      <td>0.00</td>\n",
       "      <td>0.00</td>\n",
       "      <td>0.0</td>\n",
       "      <td>0.0</td>\n",
       "      <td>0.0</td>\n",
       "      <td>0.0</td>\n",
       "      <td>0.0</td>\n",
       "      <td>0.0</td>\n",
       "      <td>0.0</td>\n",
       "      <td>0.0</td>\n",
       "      <td>0.0</td>\n",
       "      <td>2017</td>\n",
       "      <td>36296113</td>\n",
       "    </tr>\n",
       "    <tr>\n",
       "      <th>4</th>\n",
       "      <td>Afghanistan</td>\n",
       "      <td>Bananes</td>\n",
       "      <td>vegetale</td>\n",
       "      <td>0.0</td>\n",
       "      <td>0.0</td>\n",
       "      <td>4.0</td>\n",
       "      <td>2.70</td>\n",
       "      <td>0.02</td>\n",
       "      <td>0.05</td>\n",
       "      <td>82000000.0</td>\n",
       "      <td>0.0</td>\n",
       "      <td>82000000.0</td>\n",
       "      <td>82000000.0</td>\n",
       "      <td>0.0</td>\n",
       "      <td>0.0</td>\n",
       "      <td>0.0</td>\n",
       "      <td>0.0</td>\n",
       "      <td>0.0</td>\n",
       "      <td>2017</td>\n",
       "      <td>36296113</td>\n",
       "    </tr>\n",
       "    <tr>\n",
       "      <th>...</th>\n",
       "      <td>...</td>\n",
       "      <td>...</td>\n",
       "      <td>...</td>\n",
       "      <td>...</td>\n",
       "      <td>...</td>\n",
       "      <td>...</td>\n",
       "      <td>...</td>\n",
       "      <td>...</td>\n",
       "      <td>...</td>\n",
       "      <td>...</td>\n",
       "      <td>...</td>\n",
       "      <td>...</td>\n",
       "      <td>...</td>\n",
       "      <td>...</td>\n",
       "      <td>...</td>\n",
       "      <td>...</td>\n",
       "      <td>...</td>\n",
       "      <td>...</td>\n",
       "      <td>...</td>\n",
       "      <td>...</td>\n",
       "    </tr>\n",
       "    <tr>\n",
       "      <th>15411</th>\n",
       "      <td>Îles Salomon</td>\n",
       "      <td>Viande de Suides</td>\n",
       "      <td>animale</td>\n",
       "      <td>0.0</td>\n",
       "      <td>0.0</td>\n",
       "      <td>45.0</td>\n",
       "      <td>4.70</td>\n",
       "      <td>4.28</td>\n",
       "      <td>1.41</td>\n",
       "      <td>3000000.0</td>\n",
       "      <td>0.0</td>\n",
       "      <td>0.0</td>\n",
       "      <td>3000000.0</td>\n",
       "      <td>0.0</td>\n",
       "      <td>2000000.0</td>\n",
       "      <td>0.0</td>\n",
       "      <td>0.0</td>\n",
       "      <td>0.0</td>\n",
       "      <td>2017</td>\n",
       "      <td>636039</td>\n",
       "    </tr>\n",
       "    <tr>\n",
       "      <th>15412</th>\n",
       "      <td>Îles Salomon</td>\n",
       "      <td>Viande de Volailles</td>\n",
       "      <td>animale</td>\n",
       "      <td>0.0</td>\n",
       "      <td>0.0</td>\n",
       "      <td>11.0</td>\n",
       "      <td>3.34</td>\n",
       "      <td>0.69</td>\n",
       "      <td>1.14</td>\n",
       "      <td>2000000.0</td>\n",
       "      <td>0.0</td>\n",
       "      <td>2000000.0</td>\n",
       "      <td>2000000.0</td>\n",
       "      <td>0.0</td>\n",
       "      <td>0.0</td>\n",
       "      <td>0.0</td>\n",
       "      <td>0.0</td>\n",
       "      <td>0.0</td>\n",
       "      <td>2017</td>\n",
       "      <td>636039</td>\n",
       "    </tr>\n",
       "    <tr>\n",
       "      <th>15413</th>\n",
       "      <td>Îles Salomon</td>\n",
       "      <td>Viande, Autre</td>\n",
       "      <td>animale</td>\n",
       "      <td>0.0</td>\n",
       "      <td>0.0</td>\n",
       "      <td>0.0</td>\n",
       "      <td>0.06</td>\n",
       "      <td>0.00</td>\n",
       "      <td>0.04</td>\n",
       "      <td>0.0</td>\n",
       "      <td>0.0</td>\n",
       "      <td>0.0</td>\n",
       "      <td>0.0</td>\n",
       "      <td>0.0</td>\n",
       "      <td>0.0</td>\n",
       "      <td>0.0</td>\n",
       "      <td>0.0</td>\n",
       "      <td>0.0</td>\n",
       "      <td>2017</td>\n",
       "      <td>636039</td>\n",
       "    </tr>\n",
       "    <tr>\n",
       "      <th>15414</th>\n",
       "      <td>Îles Salomon</td>\n",
       "      <td>Vin</td>\n",
       "      <td>vegetale</td>\n",
       "      <td>0.0</td>\n",
       "      <td>0.0</td>\n",
       "      <td>0.0</td>\n",
       "      <td>0.07</td>\n",
       "      <td>0.00</td>\n",
       "      <td>0.00</td>\n",
       "      <td>0.0</td>\n",
       "      <td>0.0</td>\n",
       "      <td>0.0</td>\n",
       "      <td>0.0</td>\n",
       "      <td>0.0</td>\n",
       "      <td>0.0</td>\n",
       "      <td>0.0</td>\n",
       "      <td>0.0</td>\n",
       "      <td>0.0</td>\n",
       "      <td>2017</td>\n",
       "      <td>636039</td>\n",
       "    </tr>\n",
       "    <tr>\n",
       "      <th>15415</th>\n",
       "      <td>Îles Salomon</td>\n",
       "      <td>Épices, Autres</td>\n",
       "      <td>vegetale</td>\n",
       "      <td>0.0</td>\n",
       "      <td>0.0</td>\n",
       "      <td>4.0</td>\n",
       "      <td>0.48</td>\n",
       "      <td>0.21</td>\n",
       "      <td>0.15</td>\n",
       "      <td>0.0</td>\n",
       "      <td>0.0</td>\n",
       "      <td>0.0</td>\n",
       "      <td>0.0</td>\n",
       "      <td>0.0</td>\n",
       "      <td>0.0</td>\n",
       "      <td>0.0</td>\n",
       "      <td>0.0</td>\n",
       "      <td>0.0</td>\n",
       "      <td>2017</td>\n",
       "      <td>636039</td>\n",
       "    </tr>\n",
       "  </tbody>\n",
       "</table>\n",
       "<p>15416 rows × 20 columns</p>\n",
       "</div>"
      ],
      "text/plain": [
       "               Pays                Produit   Origine  Aliments_Animaux  \\\n",
       "0       Afghanistan       Abats Comestible   animale               0.0   \n",
       "1       Afghanistan        Agrumes, Autres  vegetale               0.0   \n",
       "2       Afghanistan  Aliments pour enfants  vegetale               0.0   \n",
       "3       Afghanistan                 Ananas  vegetale               0.0   \n",
       "4       Afghanistan                Bananes  vegetale               0.0   \n",
       "...             ...                    ...       ...               ...   \n",
       "15411  Îles Salomon       Viande de Suides   animale               0.0   \n",
       "15412  Îles Salomon    Viande de Volailles   animale               0.0   \n",
       "15413  Îles Salomon          Viande, Autre   animale               0.0   \n",
       "15414  Îles Salomon                    Vin  vegetale               0.0   \n",
       "15415  Îles Salomon         Épices, Autres  vegetale               0.0   \n",
       "\n",
       "       Autres_utilisations  Dispo_alim_kcal  Dispo_alim_qte  \\\n",
       "0                      0.0              5.0            1.72   \n",
       "1                      0.0              1.0            1.29   \n",
       "2                      0.0              1.0            0.06   \n",
       "3                      0.0              0.0            0.00   \n",
       "4                      0.0              4.0            2.70   \n",
       "...                    ...              ...             ...   \n",
       "15411                  0.0             45.0            4.70   \n",
       "15412                  0.0             11.0            3.34   \n",
       "15413                  0.0              0.0            0.06   \n",
       "15414                  0.0              0.0            0.07   \n",
       "15415                  0.0              4.0            0.48   \n",
       "\n",
       "       Dispo_mat_gras_qte  Dispo_prot_qte  Dispo_inter  Export_qte  \\\n",
       "0                    0.20            0.77   53000000.0         0.0   \n",
       "1                    0.01            0.02   41000000.0   2000000.0   \n",
       "2                    0.01            0.03    2000000.0         0.0   \n",
       "3                    0.00            0.00          0.0         0.0   \n",
       "4                    0.02            0.05   82000000.0         0.0   \n",
       "...                   ...             ...          ...         ...   \n",
       "15411                4.28            1.41    3000000.0         0.0   \n",
       "15412                0.69            1.14    2000000.0         0.0   \n",
       "15413                0.00            0.04          0.0         0.0   \n",
       "15414                0.00            0.00          0.0         0.0   \n",
       "15415                0.21            0.15          0.0         0.0   \n",
       "\n",
       "       Import_qte  Nourriture     Pertes  Production  Semences  Traitement  \\\n",
       "0             0.0  53000000.0        0.0  53000000.0       0.0         0.0   \n",
       "1      40000000.0  39000000.0  2000000.0   3000000.0       0.0         0.0   \n",
       "2       2000000.0   2000000.0        0.0         0.0       0.0         0.0   \n",
       "3             0.0         0.0        0.0         0.0       0.0         0.0   \n",
       "4      82000000.0  82000000.0        0.0         0.0       0.0         0.0   \n",
       "...           ...         ...        ...         ...       ...         ...   \n",
       "15411         0.0   3000000.0        0.0   2000000.0       0.0         0.0   \n",
       "15412   2000000.0   2000000.0        0.0         0.0       0.0         0.0   \n",
       "15413         0.0         0.0        0.0         0.0       0.0         0.0   \n",
       "15414         0.0         0.0        0.0         0.0       0.0         0.0   \n",
       "15415         0.0         0.0        0.0         0.0       0.0         0.0   \n",
       "\n",
       "       Var_stock  Année  Nombre_habitants  \n",
       "0            0.0   2017          36296113  \n",
       "1            0.0   2017          36296113  \n",
       "2            0.0   2017          36296113  \n",
       "3            0.0   2017          36296113  \n",
       "4            0.0   2017          36296113  \n",
       "...          ...    ...               ...  \n",
       "15411        0.0   2017            636039  \n",
       "15412        0.0   2017            636039  \n",
       "15413        0.0   2017            636039  \n",
       "15414        0.0   2017            636039  \n",
       "15415        0.0   2017            636039  \n",
       "\n",
       "[15416 rows x 20 columns]"
      ]
     },
     "execution_count": 137,
     "metadata": {},
     "output_type": "execute_result"
    }
   ],
   "source": [
    "# Affichage de la variable 'dispo_alimenatire'\n",
    "dispo_alimentaire"
   ]
  },
  {
   "cell_type": "code",
   "execution_count": 544,
   "id": "ba903705",
   "metadata": {},
   "outputs": [
    {
     "name": "stdout",
     "output_type": "stream",
     "text": [
      "la disponibilité alimentaire pour une année est de 7635429382287555\n"
     ]
    }
   ],
   "source": [
    "#calculons la disponibilité alimentaire en kcal pour une année\n",
    "dispo_alimentaire_kcal = dispo_alimentaire['Dispo_alim_kcal'] * dispo_alimentaire['Nombre_habitants'] * 365\n",
    "dispo_alimentaire_kcal.sum()\n",
    "print(f'la disponibilité alimentaire pour une année est de {dispo_alimentaire_kcal.sum():.0f}')"
   ]
  },
  {
   "cell_type": "code",
   "execution_count": 543,
   "id": "7606a2fc",
   "metadata": {},
   "outputs": [
    {
     "name": "stdout",
     "output_type": "stream",
     "text": [
      "le nombre de personnes pouvant être nourries en 2017 est de 8367593844\n"
     ]
    }
   ],
   "source": [
    "#calculons le nombre de personnes pouvant être nourries \n",
    "personnes_theorique_nourries_2017 = dispo_alimentaire_kcal.sum() / (2500 * 365)\n",
    "personnes_theorique_nourries_2017\n",
    "print(f'le nombre de personnes pouvant être nourries en 2017 est de {personnes_theorique_nourries_2017:.0f}')"
   ]
  },
  {
   "cell_type": "code",
   "execution_count": 542,
   "id": "b523f497",
   "metadata": {},
   "outputs": [
    {
     "name": "stdout",
     "output_type": "stream",
     "text": [
      "La proportion des personnes qui pourraient être nourries en 2017 est de 110.86%\n"
     ]
    }
   ],
   "source": [
    "# Calculons le rapport entre le nombre de personnes pouvant être nourries et la population pour l'année 2017\n",
    "prop_personnes_nourries_2017 = personnes_theorique_nourries_2017 * 100 / df_population_2017.Nombre_habitants.sum()\n",
    "prop_personnes_nourries_2017\n",
    "print(f'La proportion des personnes qui pourraient être nourries en 2017 est de {prop_personnes_nourries_2017:.2f}%')"
   ]
  },
  {
   "cell_type": "markdown",
   "id": "22230f28",
   "metadata": {},
   "source": [
    "#### I.3. Nombre de personnes qu'on pourrait nourrir seulement avec l'alimentation végétale"
   ]
  },
  {
   "cell_type": "code",
   "execution_count": 142,
   "id": "04877143",
   "metadata": {},
   "outputs": [
    {
     "data": {
      "text/html": [
       "<div>\n",
       "<style scoped>\n",
       "    .dataframe tbody tr th:only-of-type {\n",
       "        vertical-align: middle;\n",
       "    }\n",
       "\n",
       "    .dataframe tbody tr th {\n",
       "        vertical-align: top;\n",
       "    }\n",
       "\n",
       "    .dataframe thead th {\n",
       "        text-align: right;\n",
       "    }\n",
       "</style>\n",
       "<table border=\"1\" class=\"dataframe\">\n",
       "  <thead>\n",
       "    <tr style=\"text-align: right;\">\n",
       "      <th></th>\n",
       "      <th>Pays</th>\n",
       "      <th>Produit</th>\n",
       "      <th>Origine</th>\n",
       "      <th>Aliments_Animaux</th>\n",
       "      <th>Autres_utilisations</th>\n",
       "      <th>Dispo_alim_kcal</th>\n",
       "      <th>Dispo_alim_qte</th>\n",
       "      <th>Dispo_mat_gras_qte</th>\n",
       "      <th>Dispo_prot_qte</th>\n",
       "      <th>Dispo_inter</th>\n",
       "      <th>Export_qte</th>\n",
       "      <th>Import_qte</th>\n",
       "      <th>Nourriture</th>\n",
       "      <th>Pertes</th>\n",
       "      <th>Production</th>\n",
       "      <th>Semences</th>\n",
       "      <th>Traitement</th>\n",
       "      <th>Var_stock</th>\n",
       "      <th>Année</th>\n",
       "      <th>Nombre_habitants</th>\n",
       "    </tr>\n",
       "  </thead>\n",
       "  <tbody>\n",
       "    <tr>\n",
       "      <th>1</th>\n",
       "      <td>Afghanistan</td>\n",
       "      <td>Agrumes, Autres</td>\n",
       "      <td>vegetale</td>\n",
       "      <td>0.0</td>\n",
       "      <td>0.0</td>\n",
       "      <td>1.0</td>\n",
       "      <td>1.29</td>\n",
       "      <td>0.01</td>\n",
       "      <td>0.02</td>\n",
       "      <td>41000000.0</td>\n",
       "      <td>2000000.0</td>\n",
       "      <td>40000000.0</td>\n",
       "      <td>39000000.0</td>\n",
       "      <td>2000000.0</td>\n",
       "      <td>3000000.0</td>\n",
       "      <td>0.0</td>\n",
       "      <td>0.0</td>\n",
       "      <td>0.0</td>\n",
       "      <td>2017</td>\n",
       "      <td>36296113</td>\n",
       "    </tr>\n",
       "    <tr>\n",
       "      <th>2</th>\n",
       "      <td>Afghanistan</td>\n",
       "      <td>Aliments pour enfants</td>\n",
       "      <td>vegetale</td>\n",
       "      <td>0.0</td>\n",
       "      <td>0.0</td>\n",
       "      <td>1.0</td>\n",
       "      <td>0.06</td>\n",
       "      <td>0.01</td>\n",
       "      <td>0.03</td>\n",
       "      <td>2000000.0</td>\n",
       "      <td>0.0</td>\n",
       "      <td>2000000.0</td>\n",
       "      <td>2000000.0</td>\n",
       "      <td>0.0</td>\n",
       "      <td>0.0</td>\n",
       "      <td>0.0</td>\n",
       "      <td>0.0</td>\n",
       "      <td>0.0</td>\n",
       "      <td>2017</td>\n",
       "      <td>36296113</td>\n",
       "    </tr>\n",
       "    <tr>\n",
       "      <th>3</th>\n",
       "      <td>Afghanistan</td>\n",
       "      <td>Ananas</td>\n",
       "      <td>vegetale</td>\n",
       "      <td>0.0</td>\n",
       "      <td>0.0</td>\n",
       "      <td>0.0</td>\n",
       "      <td>0.00</td>\n",
       "      <td>0.00</td>\n",
       "      <td>0.00</td>\n",
       "      <td>0.0</td>\n",
       "      <td>0.0</td>\n",
       "      <td>0.0</td>\n",
       "      <td>0.0</td>\n",
       "      <td>0.0</td>\n",
       "      <td>0.0</td>\n",
       "      <td>0.0</td>\n",
       "      <td>0.0</td>\n",
       "      <td>0.0</td>\n",
       "      <td>2017</td>\n",
       "      <td>36296113</td>\n",
       "    </tr>\n",
       "    <tr>\n",
       "      <th>4</th>\n",
       "      <td>Afghanistan</td>\n",
       "      <td>Bananes</td>\n",
       "      <td>vegetale</td>\n",
       "      <td>0.0</td>\n",
       "      <td>0.0</td>\n",
       "      <td>4.0</td>\n",
       "      <td>2.70</td>\n",
       "      <td>0.02</td>\n",
       "      <td>0.05</td>\n",
       "      <td>82000000.0</td>\n",
       "      <td>0.0</td>\n",
       "      <td>82000000.0</td>\n",
       "      <td>82000000.0</td>\n",
       "      <td>0.0</td>\n",
       "      <td>0.0</td>\n",
       "      <td>0.0</td>\n",
       "      <td>0.0</td>\n",
       "      <td>0.0</td>\n",
       "      <td>2017</td>\n",
       "      <td>36296113</td>\n",
       "    </tr>\n",
       "    <tr>\n",
       "      <th>6</th>\n",
       "      <td>Afghanistan</td>\n",
       "      <td>Bière</td>\n",
       "      <td>vegetale</td>\n",
       "      <td>0.0</td>\n",
       "      <td>0.0</td>\n",
       "      <td>0.0</td>\n",
       "      <td>0.09</td>\n",
       "      <td>0.00</td>\n",
       "      <td>0.00</td>\n",
       "      <td>3000000.0</td>\n",
       "      <td>0.0</td>\n",
       "      <td>3000000.0</td>\n",
       "      <td>3000000.0</td>\n",
       "      <td>0.0</td>\n",
       "      <td>0.0</td>\n",
       "      <td>0.0</td>\n",
       "      <td>0.0</td>\n",
       "      <td>0.0</td>\n",
       "      <td>2017</td>\n",
       "      <td>36296113</td>\n",
       "    </tr>\n",
       "    <tr>\n",
       "      <th>...</th>\n",
       "      <td>...</td>\n",
       "      <td>...</td>\n",
       "      <td>...</td>\n",
       "      <td>...</td>\n",
       "      <td>...</td>\n",
       "      <td>...</td>\n",
       "      <td>...</td>\n",
       "      <td>...</td>\n",
       "      <td>...</td>\n",
       "      <td>...</td>\n",
       "      <td>...</td>\n",
       "      <td>...</td>\n",
       "      <td>...</td>\n",
       "      <td>...</td>\n",
       "      <td>...</td>\n",
       "      <td>...</td>\n",
       "      <td>...</td>\n",
       "      <td>...</td>\n",
       "      <td>...</td>\n",
       "      <td>...</td>\n",
       "    </tr>\n",
       "    <tr>\n",
       "      <th>15406</th>\n",
       "      <td>Îles Salomon</td>\n",
       "      <td>Sésame</td>\n",
       "      <td>vegetale</td>\n",
       "      <td>0.0</td>\n",
       "      <td>0.0</td>\n",
       "      <td>0.0</td>\n",
       "      <td>0.01</td>\n",
       "      <td>0.00</td>\n",
       "      <td>0.00</td>\n",
       "      <td>0.0</td>\n",
       "      <td>0.0</td>\n",
       "      <td>0.0</td>\n",
       "      <td>0.0</td>\n",
       "      <td>0.0</td>\n",
       "      <td>0.0</td>\n",
       "      <td>0.0</td>\n",
       "      <td>0.0</td>\n",
       "      <td>0.0</td>\n",
       "      <td>2017</td>\n",
       "      <td>636039</td>\n",
       "    </tr>\n",
       "    <tr>\n",
       "      <th>15407</th>\n",
       "      <td>Îles Salomon</td>\n",
       "      <td>Thé</td>\n",
       "      <td>vegetale</td>\n",
       "      <td>0.0</td>\n",
       "      <td>0.0</td>\n",
       "      <td>0.0</td>\n",
       "      <td>0.17</td>\n",
       "      <td>0.00</td>\n",
       "      <td>0.04</td>\n",
       "      <td>0.0</td>\n",
       "      <td>0.0</td>\n",
       "      <td>0.0</td>\n",
       "      <td>0.0</td>\n",
       "      <td>0.0</td>\n",
       "      <td>0.0</td>\n",
       "      <td>0.0</td>\n",
       "      <td>0.0</td>\n",
       "      <td>0.0</td>\n",
       "      <td>2017</td>\n",
       "      <td>636039</td>\n",
       "    </tr>\n",
       "    <tr>\n",
       "      <th>15408</th>\n",
       "      <td>Îles Salomon</td>\n",
       "      <td>Tomates</td>\n",
       "      <td>vegetale</td>\n",
       "      <td>0.0</td>\n",
       "      <td>0.0</td>\n",
       "      <td>0.0</td>\n",
       "      <td>0.07</td>\n",
       "      <td>0.00</td>\n",
       "      <td>0.00</td>\n",
       "      <td>0.0</td>\n",
       "      <td>0.0</td>\n",
       "      <td>0.0</td>\n",
       "      <td>0.0</td>\n",
       "      <td>0.0</td>\n",
       "      <td>0.0</td>\n",
       "      <td>0.0</td>\n",
       "      <td>0.0</td>\n",
       "      <td>0.0</td>\n",
       "      <td>2017</td>\n",
       "      <td>636039</td>\n",
       "    </tr>\n",
       "    <tr>\n",
       "      <th>15414</th>\n",
       "      <td>Îles Salomon</td>\n",
       "      <td>Vin</td>\n",
       "      <td>vegetale</td>\n",
       "      <td>0.0</td>\n",
       "      <td>0.0</td>\n",
       "      <td>0.0</td>\n",
       "      <td>0.07</td>\n",
       "      <td>0.00</td>\n",
       "      <td>0.00</td>\n",
       "      <td>0.0</td>\n",
       "      <td>0.0</td>\n",
       "      <td>0.0</td>\n",
       "      <td>0.0</td>\n",
       "      <td>0.0</td>\n",
       "      <td>0.0</td>\n",
       "      <td>0.0</td>\n",
       "      <td>0.0</td>\n",
       "      <td>0.0</td>\n",
       "      <td>2017</td>\n",
       "      <td>636039</td>\n",
       "    </tr>\n",
       "    <tr>\n",
       "      <th>15415</th>\n",
       "      <td>Îles Salomon</td>\n",
       "      <td>Épices, Autres</td>\n",
       "      <td>vegetale</td>\n",
       "      <td>0.0</td>\n",
       "      <td>0.0</td>\n",
       "      <td>4.0</td>\n",
       "      <td>0.48</td>\n",
       "      <td>0.21</td>\n",
       "      <td>0.15</td>\n",
       "      <td>0.0</td>\n",
       "      <td>0.0</td>\n",
       "      <td>0.0</td>\n",
       "      <td>0.0</td>\n",
       "      <td>0.0</td>\n",
       "      <td>0.0</td>\n",
       "      <td>0.0</td>\n",
       "      <td>0.0</td>\n",
       "      <td>0.0</td>\n",
       "      <td>2017</td>\n",
       "      <td>636039</td>\n",
       "    </tr>\n",
       "  </tbody>\n",
       "</table>\n",
       "<p>11751 rows × 20 columns</p>\n",
       "</div>"
      ],
      "text/plain": [
       "               Pays                Produit   Origine  Aliments_Animaux  \\\n",
       "1       Afghanistan        Agrumes, Autres  vegetale               0.0   \n",
       "2       Afghanistan  Aliments pour enfants  vegetale               0.0   \n",
       "3       Afghanistan                 Ananas  vegetale               0.0   \n",
       "4       Afghanistan                Bananes  vegetale               0.0   \n",
       "6       Afghanistan                  Bière  vegetale               0.0   \n",
       "...             ...                    ...       ...               ...   \n",
       "15406  Îles Salomon                 Sésame  vegetale               0.0   \n",
       "15407  Îles Salomon                    Thé  vegetale               0.0   \n",
       "15408  Îles Salomon                Tomates  vegetale               0.0   \n",
       "15414  Îles Salomon                    Vin  vegetale               0.0   \n",
       "15415  Îles Salomon         Épices, Autres  vegetale               0.0   \n",
       "\n",
       "       Autres_utilisations  Dispo_alim_kcal  Dispo_alim_qte  \\\n",
       "1                      0.0              1.0            1.29   \n",
       "2                      0.0              1.0            0.06   \n",
       "3                      0.0              0.0            0.00   \n",
       "4                      0.0              4.0            2.70   \n",
       "6                      0.0              0.0            0.09   \n",
       "...                    ...              ...             ...   \n",
       "15406                  0.0              0.0            0.01   \n",
       "15407                  0.0              0.0            0.17   \n",
       "15408                  0.0              0.0            0.07   \n",
       "15414                  0.0              0.0            0.07   \n",
       "15415                  0.0              4.0            0.48   \n",
       "\n",
       "       Dispo_mat_gras_qte  Dispo_prot_qte  Dispo_inter  Export_qte  \\\n",
       "1                    0.01            0.02   41000000.0   2000000.0   \n",
       "2                    0.01            0.03    2000000.0         0.0   \n",
       "3                    0.00            0.00          0.0         0.0   \n",
       "4                    0.02            0.05   82000000.0         0.0   \n",
       "6                    0.00            0.00    3000000.0         0.0   \n",
       "...                   ...             ...          ...         ...   \n",
       "15406                0.00            0.00          0.0         0.0   \n",
       "15407                0.00            0.04          0.0         0.0   \n",
       "15408                0.00            0.00          0.0         0.0   \n",
       "15414                0.00            0.00          0.0         0.0   \n",
       "15415                0.21            0.15          0.0         0.0   \n",
       "\n",
       "       Import_qte  Nourriture     Pertes  Production  Semences  Traitement  \\\n",
       "1      40000000.0  39000000.0  2000000.0   3000000.0       0.0         0.0   \n",
       "2       2000000.0   2000000.0        0.0         0.0       0.0         0.0   \n",
       "3             0.0         0.0        0.0         0.0       0.0         0.0   \n",
       "4      82000000.0  82000000.0        0.0         0.0       0.0         0.0   \n",
       "6       3000000.0   3000000.0        0.0         0.0       0.0         0.0   \n",
       "...           ...         ...        ...         ...       ...         ...   \n",
       "15406         0.0         0.0        0.0         0.0       0.0         0.0   \n",
       "15407         0.0         0.0        0.0         0.0       0.0         0.0   \n",
       "15408         0.0         0.0        0.0         0.0       0.0         0.0   \n",
       "15414         0.0         0.0        0.0         0.0       0.0         0.0   \n",
       "15415         0.0         0.0        0.0         0.0       0.0         0.0   \n",
       "\n",
       "       Var_stock  Année  Nombre_habitants  \n",
       "1            0.0   2017          36296113  \n",
       "2            0.0   2017          36296113  \n",
       "3            0.0   2017          36296113  \n",
       "4            0.0   2017          36296113  \n",
       "6            0.0   2017          36296113  \n",
       "...          ...    ...               ...  \n",
       "15406        0.0   2017            636039  \n",
       "15407        0.0   2017            636039  \n",
       "15408        0.0   2017            636039  \n",
       "15414        0.0   2017            636039  \n",
       "15415        0.0   2017            636039  \n",
       "\n",
       "[11751 rows x 20 columns]"
      ]
     },
     "execution_count": 142,
     "metadata": {},
     "output_type": "execute_result"
    }
   ],
   "source": [
    "# Filtrons notre dataframe por ne garder que les produits d'origine végétale\n",
    "dispo_vegetale = dispo_alimentaire[dispo_alimentaire.Origine=='vegetale']\n",
    "dispo_vegetale"
   ]
  },
  {
   "cell_type": "code",
   "execution_count": 541,
   "id": "b8c1008e",
   "metadata": {},
   "outputs": [
    {
     "name": "stdout",
     "output_type": "stream",
     "text": [
      "la disponibilité alimentaire végétale pour une année est de 6300178932059760\n"
     ]
    }
   ],
   "source": [
    "#calculons la disponibilité alimentaire vegetale en kcal pour une année\n",
    "dispo_alimentaire_vegetale_kcal = dispo_vegetale['Dispo_alim_kcal'] * dispo_vegetale['Nombre_habitants'] * 365\n",
    "dispo_alimentaire_vegetale_kcal.sum()\n",
    "print(f'la disponibilité alimentaire végétale pour une année est de {dispo_alimentaire_vegetale_kcal.sum():.0f}')"
   ]
  },
  {
   "cell_type": "code",
   "execution_count": 540,
   "id": "c4ade0fa",
   "metadata": {},
   "outputs": [
    {
     "name": "stdout",
     "output_type": "stream",
     "text": [
      "le nombre de personnes pouvant être nourries avec une alimentation végétale en 2017 est de 6904305679\n"
     ]
    }
   ],
   "source": [
    "#calculons le nombre de personnes pouvant être nourries avec l'alimentation vegetale\n",
    "personnes_theorique_nourries_vegetale_2017 = dispo_alimentaire_vegetale_kcal.sum() / (2500 * 365)\n",
    "personnes_theorique_nourries_vegetale_2017\n",
    "print(f'le nombre de personnes pouvant être nourries avec une alimentation végétale en 2017 est de {personnes_theorique_nourries_vegetale_2017:.0f}')"
   ]
  },
  {
   "cell_type": "code",
   "execution_count": 539,
   "id": "8796c4bc",
   "metadata": {},
   "outputs": [
    {
     "name": "stdout",
     "output_type": "stream",
     "text": [
      "La proportion de personnes pouvant être nourries avec les produits végétaux est de 91.47%\n"
     ]
    }
   ],
   "source": [
    "# Calculons le rapport entre le nombre de personnes pouvant être nourries avec une alimentation végétale et la population pour l'année 2017\n",
    "prop_personnes_nourries_vegetale_2017 = personnes_theorique_nourries_vegetale_2017 * 100 / df_population_2017.Nombre_habitants.sum()\n",
    "prop_personnes_nourries_vegetale_2017\n",
    "print(f'La proportion de personnes pouvant être nourries avec les produits végétaux est de {prop_personnes_nourries_vegetale_2017:.2f}%')"
   ]
  },
  {
   "cell_type": "markdown",
   "id": "154b0fa0",
   "metadata": {},
   "source": [
    "#### I.4. Utilisation de la disponibilité intérieure : part qui est attribuée à l’alimentation animale, aux pertes et à l'alimentation humaine"
   ]
  },
  {
   "cell_type": "code",
   "execution_count": 147,
   "id": "7b195976",
   "metadata": {},
   "outputs": [
    {
     "data": {
      "text/html": [
       "<div>\n",
       "<style scoped>\n",
       "    .dataframe tbody tr th:only-of-type {\n",
       "        vertical-align: middle;\n",
       "    }\n",
       "\n",
       "    .dataframe tbody tr th {\n",
       "        vertical-align: top;\n",
       "    }\n",
       "\n",
       "    .dataframe thead th {\n",
       "        text-align: right;\n",
       "    }\n",
       "</style>\n",
       "<table border=\"1\" class=\"dataframe\">\n",
       "  <thead>\n",
       "    <tr style=\"text-align: right;\">\n",
       "      <th></th>\n",
       "      <th>Pays</th>\n",
       "      <th>Produit</th>\n",
       "      <th>Origine</th>\n",
       "      <th>Aliments_Animaux</th>\n",
       "      <th>Autres_utilisations</th>\n",
       "      <th>Dispo_alim_kcal</th>\n",
       "      <th>Dispo_alim_qte</th>\n",
       "      <th>Dispo_mat_gras_qte</th>\n",
       "      <th>Dispo_prot_qte</th>\n",
       "      <th>Dispo_inter</th>\n",
       "      <th>Export_qte</th>\n",
       "      <th>Import_qte</th>\n",
       "      <th>Nourriture</th>\n",
       "      <th>Pertes</th>\n",
       "      <th>Production</th>\n",
       "      <th>Semences</th>\n",
       "      <th>Traitement</th>\n",
       "      <th>Var_stock</th>\n",
       "      <th>Année</th>\n",
       "      <th>Nombre_habitants</th>\n",
       "    </tr>\n",
       "  </thead>\n",
       "  <tbody>\n",
       "    <tr>\n",
       "      <th>0</th>\n",
       "      <td>Afghanistan</td>\n",
       "      <td>Abats Comestible</td>\n",
       "      <td>animale</td>\n",
       "      <td>0.0</td>\n",
       "      <td>0.0</td>\n",
       "      <td>5.0</td>\n",
       "      <td>1.72</td>\n",
       "      <td>0.20</td>\n",
       "      <td>0.77</td>\n",
       "      <td>53000000.0</td>\n",
       "      <td>0.0</td>\n",
       "      <td>0.0</td>\n",
       "      <td>53000000.0</td>\n",
       "      <td>0.0</td>\n",
       "      <td>53000000.0</td>\n",
       "      <td>0.0</td>\n",
       "      <td>0.0</td>\n",
       "      <td>0.0</td>\n",
       "      <td>2017</td>\n",
       "      <td>36296113</td>\n",
       "    </tr>\n",
       "    <tr>\n",
       "      <th>1</th>\n",
       "      <td>Afghanistan</td>\n",
       "      <td>Agrumes, Autres</td>\n",
       "      <td>vegetale</td>\n",
       "      <td>0.0</td>\n",
       "      <td>0.0</td>\n",
       "      <td>1.0</td>\n",
       "      <td>1.29</td>\n",
       "      <td>0.01</td>\n",
       "      <td>0.02</td>\n",
       "      <td>41000000.0</td>\n",
       "      <td>2000000.0</td>\n",
       "      <td>40000000.0</td>\n",
       "      <td>39000000.0</td>\n",
       "      <td>2000000.0</td>\n",
       "      <td>3000000.0</td>\n",
       "      <td>0.0</td>\n",
       "      <td>0.0</td>\n",
       "      <td>0.0</td>\n",
       "      <td>2017</td>\n",
       "      <td>36296113</td>\n",
       "    </tr>\n",
       "    <tr>\n",
       "      <th>2</th>\n",
       "      <td>Afghanistan</td>\n",
       "      <td>Aliments pour enfants</td>\n",
       "      <td>vegetale</td>\n",
       "      <td>0.0</td>\n",
       "      <td>0.0</td>\n",
       "      <td>1.0</td>\n",
       "      <td>0.06</td>\n",
       "      <td>0.01</td>\n",
       "      <td>0.03</td>\n",
       "      <td>2000000.0</td>\n",
       "      <td>0.0</td>\n",
       "      <td>2000000.0</td>\n",
       "      <td>2000000.0</td>\n",
       "      <td>0.0</td>\n",
       "      <td>0.0</td>\n",
       "      <td>0.0</td>\n",
       "      <td>0.0</td>\n",
       "      <td>0.0</td>\n",
       "      <td>2017</td>\n",
       "      <td>36296113</td>\n",
       "    </tr>\n",
       "    <tr>\n",
       "      <th>3</th>\n",
       "      <td>Afghanistan</td>\n",
       "      <td>Ananas</td>\n",
       "      <td>vegetale</td>\n",
       "      <td>0.0</td>\n",
       "      <td>0.0</td>\n",
       "      <td>0.0</td>\n",
       "      <td>0.00</td>\n",
       "      <td>0.00</td>\n",
       "      <td>0.00</td>\n",
       "      <td>0.0</td>\n",
       "      <td>0.0</td>\n",
       "      <td>0.0</td>\n",
       "      <td>0.0</td>\n",
       "      <td>0.0</td>\n",
       "      <td>0.0</td>\n",
       "      <td>0.0</td>\n",
       "      <td>0.0</td>\n",
       "      <td>0.0</td>\n",
       "      <td>2017</td>\n",
       "      <td>36296113</td>\n",
       "    </tr>\n",
       "    <tr>\n",
       "      <th>4</th>\n",
       "      <td>Afghanistan</td>\n",
       "      <td>Bananes</td>\n",
       "      <td>vegetale</td>\n",
       "      <td>0.0</td>\n",
       "      <td>0.0</td>\n",
       "      <td>4.0</td>\n",
       "      <td>2.70</td>\n",
       "      <td>0.02</td>\n",
       "      <td>0.05</td>\n",
       "      <td>82000000.0</td>\n",
       "      <td>0.0</td>\n",
       "      <td>82000000.0</td>\n",
       "      <td>82000000.0</td>\n",
       "      <td>0.0</td>\n",
       "      <td>0.0</td>\n",
       "      <td>0.0</td>\n",
       "      <td>0.0</td>\n",
       "      <td>0.0</td>\n",
       "      <td>2017</td>\n",
       "      <td>36296113</td>\n",
       "    </tr>\n",
       "    <tr>\n",
       "      <th>...</th>\n",
       "      <td>...</td>\n",
       "      <td>...</td>\n",
       "      <td>...</td>\n",
       "      <td>...</td>\n",
       "      <td>...</td>\n",
       "      <td>...</td>\n",
       "      <td>...</td>\n",
       "      <td>...</td>\n",
       "      <td>...</td>\n",
       "      <td>...</td>\n",
       "      <td>...</td>\n",
       "      <td>...</td>\n",
       "      <td>...</td>\n",
       "      <td>...</td>\n",
       "      <td>...</td>\n",
       "      <td>...</td>\n",
       "      <td>...</td>\n",
       "      <td>...</td>\n",
       "      <td>...</td>\n",
       "      <td>...</td>\n",
       "    </tr>\n",
       "    <tr>\n",
       "      <th>15411</th>\n",
       "      <td>Îles Salomon</td>\n",
       "      <td>Viande de Suides</td>\n",
       "      <td>animale</td>\n",
       "      <td>0.0</td>\n",
       "      <td>0.0</td>\n",
       "      <td>45.0</td>\n",
       "      <td>4.70</td>\n",
       "      <td>4.28</td>\n",
       "      <td>1.41</td>\n",
       "      <td>3000000.0</td>\n",
       "      <td>0.0</td>\n",
       "      <td>0.0</td>\n",
       "      <td>3000000.0</td>\n",
       "      <td>0.0</td>\n",
       "      <td>2000000.0</td>\n",
       "      <td>0.0</td>\n",
       "      <td>0.0</td>\n",
       "      <td>0.0</td>\n",
       "      <td>2017</td>\n",
       "      <td>636039</td>\n",
       "    </tr>\n",
       "    <tr>\n",
       "      <th>15412</th>\n",
       "      <td>Îles Salomon</td>\n",
       "      <td>Viande de Volailles</td>\n",
       "      <td>animale</td>\n",
       "      <td>0.0</td>\n",
       "      <td>0.0</td>\n",
       "      <td>11.0</td>\n",
       "      <td>3.34</td>\n",
       "      <td>0.69</td>\n",
       "      <td>1.14</td>\n",
       "      <td>2000000.0</td>\n",
       "      <td>0.0</td>\n",
       "      <td>2000000.0</td>\n",
       "      <td>2000000.0</td>\n",
       "      <td>0.0</td>\n",
       "      <td>0.0</td>\n",
       "      <td>0.0</td>\n",
       "      <td>0.0</td>\n",
       "      <td>0.0</td>\n",
       "      <td>2017</td>\n",
       "      <td>636039</td>\n",
       "    </tr>\n",
       "    <tr>\n",
       "      <th>15413</th>\n",
       "      <td>Îles Salomon</td>\n",
       "      <td>Viande, Autre</td>\n",
       "      <td>animale</td>\n",
       "      <td>0.0</td>\n",
       "      <td>0.0</td>\n",
       "      <td>0.0</td>\n",
       "      <td>0.06</td>\n",
       "      <td>0.00</td>\n",
       "      <td>0.04</td>\n",
       "      <td>0.0</td>\n",
       "      <td>0.0</td>\n",
       "      <td>0.0</td>\n",
       "      <td>0.0</td>\n",
       "      <td>0.0</td>\n",
       "      <td>0.0</td>\n",
       "      <td>0.0</td>\n",
       "      <td>0.0</td>\n",
       "      <td>0.0</td>\n",
       "      <td>2017</td>\n",
       "      <td>636039</td>\n",
       "    </tr>\n",
       "    <tr>\n",
       "      <th>15414</th>\n",
       "      <td>Îles Salomon</td>\n",
       "      <td>Vin</td>\n",
       "      <td>vegetale</td>\n",
       "      <td>0.0</td>\n",
       "      <td>0.0</td>\n",
       "      <td>0.0</td>\n",
       "      <td>0.07</td>\n",
       "      <td>0.00</td>\n",
       "      <td>0.00</td>\n",
       "      <td>0.0</td>\n",
       "      <td>0.0</td>\n",
       "      <td>0.0</td>\n",
       "      <td>0.0</td>\n",
       "      <td>0.0</td>\n",
       "      <td>0.0</td>\n",
       "      <td>0.0</td>\n",
       "      <td>0.0</td>\n",
       "      <td>0.0</td>\n",
       "      <td>2017</td>\n",
       "      <td>636039</td>\n",
       "    </tr>\n",
       "    <tr>\n",
       "      <th>15415</th>\n",
       "      <td>Îles Salomon</td>\n",
       "      <td>Épices, Autres</td>\n",
       "      <td>vegetale</td>\n",
       "      <td>0.0</td>\n",
       "      <td>0.0</td>\n",
       "      <td>4.0</td>\n",
       "      <td>0.48</td>\n",
       "      <td>0.21</td>\n",
       "      <td>0.15</td>\n",
       "      <td>0.0</td>\n",
       "      <td>0.0</td>\n",
       "      <td>0.0</td>\n",
       "      <td>0.0</td>\n",
       "      <td>0.0</td>\n",
       "      <td>0.0</td>\n",
       "      <td>0.0</td>\n",
       "      <td>0.0</td>\n",
       "      <td>0.0</td>\n",
       "      <td>2017</td>\n",
       "      <td>636039</td>\n",
       "    </tr>\n",
       "  </tbody>\n",
       "</table>\n",
       "<p>15416 rows × 20 columns</p>\n",
       "</div>"
      ],
      "text/plain": [
       "               Pays                Produit   Origine  Aliments_Animaux  \\\n",
       "0       Afghanistan       Abats Comestible   animale               0.0   \n",
       "1       Afghanistan        Agrumes, Autres  vegetale               0.0   \n",
       "2       Afghanistan  Aliments pour enfants  vegetale               0.0   \n",
       "3       Afghanistan                 Ananas  vegetale               0.0   \n",
       "4       Afghanistan                Bananes  vegetale               0.0   \n",
       "...             ...                    ...       ...               ...   \n",
       "15411  Îles Salomon       Viande de Suides   animale               0.0   \n",
       "15412  Îles Salomon    Viande de Volailles   animale               0.0   \n",
       "15413  Îles Salomon          Viande, Autre   animale               0.0   \n",
       "15414  Îles Salomon                    Vin  vegetale               0.0   \n",
       "15415  Îles Salomon         Épices, Autres  vegetale               0.0   \n",
       "\n",
       "       Autres_utilisations  Dispo_alim_kcal  Dispo_alim_qte  \\\n",
       "0                      0.0              5.0            1.72   \n",
       "1                      0.0              1.0            1.29   \n",
       "2                      0.0              1.0            0.06   \n",
       "3                      0.0              0.0            0.00   \n",
       "4                      0.0              4.0            2.70   \n",
       "...                    ...              ...             ...   \n",
       "15411                  0.0             45.0            4.70   \n",
       "15412                  0.0             11.0            3.34   \n",
       "15413                  0.0              0.0            0.06   \n",
       "15414                  0.0              0.0            0.07   \n",
       "15415                  0.0              4.0            0.48   \n",
       "\n",
       "       Dispo_mat_gras_qte  Dispo_prot_qte  Dispo_inter  Export_qte  \\\n",
       "0                    0.20            0.77   53000000.0         0.0   \n",
       "1                    0.01            0.02   41000000.0   2000000.0   \n",
       "2                    0.01            0.03    2000000.0         0.0   \n",
       "3                    0.00            0.00          0.0         0.0   \n",
       "4                    0.02            0.05   82000000.0         0.0   \n",
       "...                   ...             ...          ...         ...   \n",
       "15411                4.28            1.41    3000000.0         0.0   \n",
       "15412                0.69            1.14    2000000.0         0.0   \n",
       "15413                0.00            0.04          0.0         0.0   \n",
       "15414                0.00            0.00          0.0         0.0   \n",
       "15415                0.21            0.15          0.0         0.0   \n",
       "\n",
       "       Import_qte  Nourriture     Pertes  Production  Semences  Traitement  \\\n",
       "0             0.0  53000000.0        0.0  53000000.0       0.0         0.0   \n",
       "1      40000000.0  39000000.0  2000000.0   3000000.0       0.0         0.0   \n",
       "2       2000000.0   2000000.0        0.0         0.0       0.0         0.0   \n",
       "3             0.0         0.0        0.0         0.0       0.0         0.0   \n",
       "4      82000000.0  82000000.0        0.0         0.0       0.0         0.0   \n",
       "...           ...         ...        ...         ...       ...         ...   \n",
       "15411         0.0   3000000.0        0.0   2000000.0       0.0         0.0   \n",
       "15412   2000000.0   2000000.0        0.0         0.0       0.0         0.0   \n",
       "15413         0.0         0.0        0.0         0.0       0.0         0.0   \n",
       "15414         0.0         0.0        0.0         0.0       0.0         0.0   \n",
       "15415         0.0         0.0        0.0         0.0       0.0         0.0   \n",
       "\n",
       "       Var_stock  Année  Nombre_habitants  \n",
       "0            0.0   2017          36296113  \n",
       "1            0.0   2017          36296113  \n",
       "2            0.0   2017          36296113  \n",
       "3            0.0   2017          36296113  \n",
       "4            0.0   2017          36296113  \n",
       "...          ...    ...               ...  \n",
       "15411        0.0   2017            636039  \n",
       "15412        0.0   2017            636039  \n",
       "15413        0.0   2017            636039  \n",
       "15414        0.0   2017            636039  \n",
       "15415        0.0   2017            636039  \n",
       "\n",
       "[15416 rows x 20 columns]"
      ]
     },
     "execution_count": 147,
     "metadata": {},
     "output_type": "execute_result"
    }
   ],
   "source": [
    "# Fusionnons nos 2 dataframes sur une colonne commune 'Pays'\n",
    "dispo_interieure = df_dispon_alim.merge(df_population_2017, on='Pays', how='inner')\n",
    "dispo_interieure"
   ]
  },
  {
   "cell_type": "markdown",
   "id": "6ba55e5f",
   "metadata": {},
   "source": [
    " __a. Part attribuée à l'alimentation animale__"
   ]
  },
  {
   "cell_type": "code",
   "execution_count": 462,
   "id": "9e8f6956",
   "metadata": {},
   "outputs": [
    {
     "name": "stdout",
     "output_type": "stream",
     "text": [
      "lalimentation animale  = 1288002000000\n"
     ]
    }
   ],
   "source": [
    "# Creation de la variable alimentation animale à partir de la dataframe fusionnée\n",
    "alimentation_animale = dispo_interieure['Aliments_Animaux'].sum()\n",
    "alimentation_animale\n",
    "print(f'lalimentation animale  = {alimentation_animale:.0f}')"
   ]
  },
  {
   "cell_type": "code",
   "execution_count": 460,
   "id": "bb886bd2",
   "metadata": {
    "scrolled": true
   },
   "outputs": [
    {
     "name": "stdout",
     "output_type": "stream",
     "text": [
      "La part attribuée à lalimentation animale = 13.23%\n"
     ]
    }
   ],
   "source": [
    "# Calculons le rapport entre l'alimentation animale et la disponibilité intérieure\n",
    "part_alimentation_animale_dispo_interieure = alimentation_animale * 100 / dispo_interieure['Dispo_inter'].sum()\n",
    "part_alimentation_animale_dispo_interieure\n",
    "print(f'La part attribuée à lalimentation animale = {part_alimentation_animale_dispo_interieure:.2f}%')"
   ]
  },
  {
   "cell_type": "markdown",
   "id": "05949c16",
   "metadata": {},
   "source": [
    " __b. Part attribuée aux pertes__"
   ]
  },
  {
   "cell_type": "code",
   "execution_count": 466,
   "id": "45ce66b6",
   "metadata": {},
   "outputs": [
    {
     "name": "stdout",
     "output_type": "stream",
     "text": [
      "Pertes = 452283000000\n"
     ]
    }
   ],
   "source": [
    "# Creation de la variable Pertes à partir de la dataframe fusionnée\n",
    "pertes = dispo_interieure['Pertes'].sum()\n",
    "pertes\n",
    "print(f'Pertes = {pertes:.0f}')"
   ]
  },
  {
   "cell_type": "code",
   "execution_count": 464,
   "id": "5adf3520",
   "metadata": {},
   "outputs": [
    {
     "name": "stdout",
     "output_type": "stream",
     "text": [
      "La part attribuée aux pertes = 4.65%\n"
     ]
    }
   ],
   "source": [
    "# Calculons le rapport entre les pertes et la disponibilité intérieure\n",
    "part_pertes_dispo_interieure = pertes * 100 / dispo_interieure['Dispo_inter'].sum()\n",
    "part_pertes_dispo_interieure\n",
    "print(f'La part attribuée aux pertes = {part_pertes_dispo_interieure:.2f}%')"
   ]
  },
  {
   "cell_type": "markdown",
   "id": "c83d2765",
   "metadata": {},
   "source": [
    " __c. Part attribuée à l'alimentation humaine__"
   ]
  },
  {
   "cell_type": "code",
   "execution_count": 465,
   "id": "7d46eb03",
   "metadata": {},
   "outputs": [
    {
     "name": "stdout",
     "output_type": "stream",
     "text": [
      "Alimentation humaine = 4805525000000\n"
     ]
    }
   ],
   "source": [
    "# Creation de la variable Alimentation humaine à partir de la dataframe fusionnée\n",
    "alimentation_humaine = dispo_interieure['Nourriture'].sum()\n",
    "alimentation_humaine\n",
    "print(f'Alimentation humaine = {alimentation_humaine:.0f}')"
   ]
  },
  {
   "cell_type": "code",
   "execution_count": 467,
   "id": "8b978e78",
   "metadata": {},
   "outputs": [
    {
     "name": "stdout",
     "output_type": "stream",
     "text": [
      "La part attribuée à lalimentation humaine = 49.37%\n"
     ]
    }
   ],
   "source": [
    "# Calculons le rapport entre l'alimentation humaine et la disponibilité intérieure\n",
    "part_alimentation_humaine_dispo_interieure = alimentation_humaine * 100 / dispo_interieure['Dispo_inter'].sum()\n",
    "part_alimentation_humaine_dispo_interieure\n",
    "print(f'La part attribuée à lalimentation humaine = {part_alimentation_humaine_dispo_interieure:.2f}%')"
   ]
  },
  {
   "cell_type": "markdown",
   "id": "f9fa8741",
   "metadata": {},
   "source": [
    "### II. Demandes de Melanie"
   ]
  },
  {
   "cell_type": "markdown",
   "id": "95c462f3",
   "metadata": {},
   "source": [
    "#### II.1. Pays pour lesquels la proportion de personnes sous-alimentées est la plus forte en 2017"
   ]
  },
  {
   "cell_type": "code",
   "execution_count": 178,
   "id": "5c958638",
   "metadata": {},
   "outputs": [
    {
     "data": {
      "text/html": [
       "<div>\n",
       "<style scoped>\n",
       "    .dataframe tbody tr th:only-of-type {\n",
       "        vertical-align: middle;\n",
       "    }\n",
       "\n",
       "    .dataframe tbody tr th {\n",
       "        vertical-align: top;\n",
       "    }\n",
       "\n",
       "    .dataframe thead th {\n",
       "        text-align: right;\n",
       "    }\n",
       "</style>\n",
       "<table border=\"1\" class=\"dataframe\">\n",
       "  <thead>\n",
       "    <tr style=\"text-align: right;\">\n",
       "      <th></th>\n",
       "      <th>Pays</th>\n",
       "      <th>Année_x</th>\n",
       "      <th>Nombre_personnes</th>\n",
       "      <th>Année_y</th>\n",
       "      <th>Nombre_habitants</th>\n",
       "    </tr>\n",
       "  </thead>\n",
       "  <tbody>\n",
       "    <tr>\n",
       "      <th>0</th>\n",
       "      <td>Afghanistan</td>\n",
       "      <td>2016-2018</td>\n",
       "      <td>10500000.0</td>\n",
       "      <td>2017</td>\n",
       "      <td>36296113</td>\n",
       "    </tr>\n",
       "    <tr>\n",
       "      <th>1</th>\n",
       "      <td>Afrique du Sud</td>\n",
       "      <td>2016-2018</td>\n",
       "      <td>3100000.0</td>\n",
       "      <td>2017</td>\n",
       "      <td>57009756</td>\n",
       "    </tr>\n",
       "    <tr>\n",
       "      <th>2</th>\n",
       "      <td>Albanie</td>\n",
       "      <td>2016-2018</td>\n",
       "      <td>100000.0</td>\n",
       "      <td>2017</td>\n",
       "      <td>2884169</td>\n",
       "    </tr>\n",
       "    <tr>\n",
       "      <th>3</th>\n",
       "      <td>Algérie</td>\n",
       "      <td>2016-2018</td>\n",
       "      <td>1300000.0</td>\n",
       "      <td>2017</td>\n",
       "      <td>41389189</td>\n",
       "    </tr>\n",
       "    <tr>\n",
       "      <th>4</th>\n",
       "      <td>Allemagne</td>\n",
       "      <td>2016-2018</td>\n",
       "      <td>0.0</td>\n",
       "      <td>2017</td>\n",
       "      <td>82658409</td>\n",
       "    </tr>\n",
       "    <tr>\n",
       "      <th>...</th>\n",
       "      <td>...</td>\n",
       "      <td>...</td>\n",
       "      <td>...</td>\n",
       "      <td>...</td>\n",
       "      <td>...</td>\n",
       "    </tr>\n",
       "    <tr>\n",
       "      <th>198</th>\n",
       "      <td>Venezuela (République bolivarienne du)</td>\n",
       "      <td>2016-2018</td>\n",
       "      <td>8000000.0</td>\n",
       "      <td>2017</td>\n",
       "      <td>29402484</td>\n",
       "    </tr>\n",
       "    <tr>\n",
       "      <th>199</th>\n",
       "      <td>Viet Nam</td>\n",
       "      <td>2016-2018</td>\n",
       "      <td>6500000.0</td>\n",
       "      <td>2017</td>\n",
       "      <td>94600648</td>\n",
       "    </tr>\n",
       "    <tr>\n",
       "      <th>200</th>\n",
       "      <td>Yémen</td>\n",
       "      <td>2016-2018</td>\n",
       "      <td>0.0</td>\n",
       "      <td>2017</td>\n",
       "      <td>27834819</td>\n",
       "    </tr>\n",
       "    <tr>\n",
       "      <th>201</th>\n",
       "      <td>Zambie</td>\n",
       "      <td>2016-2018</td>\n",
       "      <td>0.0</td>\n",
       "      <td>2017</td>\n",
       "      <td>16853599</td>\n",
       "    </tr>\n",
       "    <tr>\n",
       "      <th>202</th>\n",
       "      <td>Zimbabwe</td>\n",
       "      <td>2016-2018</td>\n",
       "      <td>0.0</td>\n",
       "      <td>2017</td>\n",
       "      <td>14236595</td>\n",
       "    </tr>\n",
       "  </tbody>\n",
       "</table>\n",
       "<p>203 rows × 5 columns</p>\n",
       "</div>"
      ],
      "text/plain": [
       "                                       Pays    Année_x  Nombre_personnes  \\\n",
       "0                               Afghanistan  2016-2018        10500000.0   \n",
       "1                            Afrique du Sud  2016-2018         3100000.0   \n",
       "2                                   Albanie  2016-2018          100000.0   \n",
       "3                                   Algérie  2016-2018         1300000.0   \n",
       "4                                 Allemagne  2016-2018               0.0   \n",
       "..                                      ...        ...               ...   \n",
       "198  Venezuela (République bolivarienne du)  2016-2018         8000000.0   \n",
       "199                                Viet Nam  2016-2018         6500000.0   \n",
       "200                                   Yémen  2016-2018               0.0   \n",
       "201                                  Zambie  2016-2018               0.0   \n",
       "202                                Zimbabwe  2016-2018               0.0   \n",
       "\n",
       "     Année_y  Nombre_habitants  \n",
       "0       2017          36296113  \n",
       "1       2017          57009756  \n",
       "2       2017           2884169  \n",
       "3       2017          41389189  \n",
       "4       2017          82658409  \n",
       "..       ...               ...  \n",
       "198     2017          29402484  \n",
       "199     2017          94600648  \n",
       "200     2017          27834819  \n",
       "201     2017          16853599  \n",
       "202     2017          14236595  \n",
       "\n",
       "[203 rows x 5 columns]"
      ]
     },
     "execution_count": 178,
     "metadata": {},
     "output_type": "execute_result"
    }
   ],
   "source": [
    "# Fusionnons nos 2 dataframes sur une colonne commune 'Pays'\n",
    "personnes_sous_alimentées = df_sous_nutrition_2017.merge(df_population_2017, on='Pays', how='inner')\n",
    "personnes_sous_alimentées"
   ]
  },
  {
   "cell_type": "code",
   "execution_count": 468,
   "id": "9e634fdd",
   "metadata": {},
   "outputs": [
    {
     "data": {
      "text/html": [
       "<div>\n",
       "<style scoped>\n",
       "    .dataframe tbody tr th:only-of-type {\n",
       "        vertical-align: middle;\n",
       "    }\n",
       "\n",
       "    .dataframe tbody tr th {\n",
       "        vertical-align: top;\n",
       "    }\n",
       "\n",
       "    .dataframe thead th {\n",
       "        text-align: right;\n",
       "    }\n",
       "</style>\n",
       "<table border=\"1\" class=\"dataframe\">\n",
       "  <thead>\n",
       "    <tr style=\"text-align: right;\">\n",
       "      <th></th>\n",
       "      <th>Pays</th>\n",
       "      <th>Année_x</th>\n",
       "      <th>Nombre_personnes</th>\n",
       "      <th>Année_y</th>\n",
       "      <th>Nombre_habitants</th>\n",
       "      <th>proportion_personnes_sous_alimentées</th>\n",
       "    </tr>\n",
       "  </thead>\n",
       "  <tbody>\n",
       "    <tr>\n",
       "      <th>0</th>\n",
       "      <td>Afghanistan</td>\n",
       "      <td>2016-2018</td>\n",
       "      <td>10500000.0</td>\n",
       "      <td>2017</td>\n",
       "      <td>36296113</td>\n",
       "      <td>28.928718</td>\n",
       "    </tr>\n",
       "    <tr>\n",
       "      <th>1</th>\n",
       "      <td>Afrique du Sud</td>\n",
       "      <td>2016-2018</td>\n",
       "      <td>3100000.0</td>\n",
       "      <td>2017</td>\n",
       "      <td>57009756</td>\n",
       "      <td>5.437666</td>\n",
       "    </tr>\n",
       "    <tr>\n",
       "      <th>2</th>\n",
       "      <td>Albanie</td>\n",
       "      <td>2016-2018</td>\n",
       "      <td>100000.0</td>\n",
       "      <td>2017</td>\n",
       "      <td>2884169</td>\n",
       "      <td>3.467203</td>\n",
       "    </tr>\n",
       "    <tr>\n",
       "      <th>3</th>\n",
       "      <td>Algérie</td>\n",
       "      <td>2016-2018</td>\n",
       "      <td>1300000.0</td>\n",
       "      <td>2017</td>\n",
       "      <td>41389189</td>\n",
       "      <td>3.140917</td>\n",
       "    </tr>\n",
       "    <tr>\n",
       "      <th>4</th>\n",
       "      <td>Allemagne</td>\n",
       "      <td>2016-2018</td>\n",
       "      <td>0.0</td>\n",
       "      <td>2017</td>\n",
       "      <td>82658409</td>\n",
       "      <td>0.000000</td>\n",
       "    </tr>\n",
       "    <tr>\n",
       "      <th>...</th>\n",
       "      <td>...</td>\n",
       "      <td>...</td>\n",
       "      <td>...</td>\n",
       "      <td>...</td>\n",
       "      <td>...</td>\n",
       "      <td>...</td>\n",
       "    </tr>\n",
       "    <tr>\n",
       "      <th>198</th>\n",
       "      <td>Venezuela (République bolivarienne du)</td>\n",
       "      <td>2016-2018</td>\n",
       "      <td>8000000.0</td>\n",
       "      <td>2017</td>\n",
       "      <td>29402484</td>\n",
       "      <td>27.208586</td>\n",
       "    </tr>\n",
       "    <tr>\n",
       "      <th>199</th>\n",
       "      <td>Viet Nam</td>\n",
       "      <td>2016-2018</td>\n",
       "      <td>6500000.0</td>\n",
       "      <td>2017</td>\n",
       "      <td>94600648</td>\n",
       "      <td>6.870989</td>\n",
       "    </tr>\n",
       "    <tr>\n",
       "      <th>200</th>\n",
       "      <td>Yémen</td>\n",
       "      <td>2016-2018</td>\n",
       "      <td>0.0</td>\n",
       "      <td>2017</td>\n",
       "      <td>27834819</td>\n",
       "      <td>0.000000</td>\n",
       "    </tr>\n",
       "    <tr>\n",
       "      <th>201</th>\n",
       "      <td>Zambie</td>\n",
       "      <td>2016-2018</td>\n",
       "      <td>0.0</td>\n",
       "      <td>2017</td>\n",
       "      <td>16853599</td>\n",
       "      <td>0.000000</td>\n",
       "    </tr>\n",
       "    <tr>\n",
       "      <th>202</th>\n",
       "      <td>Zimbabwe</td>\n",
       "      <td>2016-2018</td>\n",
       "      <td>0.0</td>\n",
       "      <td>2017</td>\n",
       "      <td>14236595</td>\n",
       "      <td>0.000000</td>\n",
       "    </tr>\n",
       "  </tbody>\n",
       "</table>\n",
       "<p>203 rows × 6 columns</p>\n",
       "</div>"
      ],
      "text/plain": [
       "                                       Pays    Année_x  Nombre_personnes  \\\n",
       "0                               Afghanistan  2016-2018        10500000.0   \n",
       "1                            Afrique du Sud  2016-2018         3100000.0   \n",
       "2                                   Albanie  2016-2018          100000.0   \n",
       "3                                   Algérie  2016-2018         1300000.0   \n",
       "4                                 Allemagne  2016-2018               0.0   \n",
       "..                                      ...        ...               ...   \n",
       "198  Venezuela (République bolivarienne du)  2016-2018         8000000.0   \n",
       "199                                Viet Nam  2016-2018         6500000.0   \n",
       "200                                   Yémen  2016-2018               0.0   \n",
       "201                                  Zambie  2016-2018               0.0   \n",
       "202                                Zimbabwe  2016-2018               0.0   \n",
       "\n",
       "     Année_y  Nombre_habitants  proportion_personnes_sous_alimentées  \n",
       "0       2017          36296113                             28.928718  \n",
       "1       2017          57009756                              5.437666  \n",
       "2       2017           2884169                              3.467203  \n",
       "3       2017          41389189                              3.140917  \n",
       "4       2017          82658409                              0.000000  \n",
       "..       ...               ...                                   ...  \n",
       "198     2017          29402484                             27.208586  \n",
       "199     2017          94600648                              6.870989  \n",
       "200     2017          27834819                              0.000000  \n",
       "201     2017          16853599                              0.000000  \n",
       "202     2017          14236595                              0.000000  \n",
       "\n",
       "[203 rows x 6 columns]"
      ]
     },
     "execution_count": 468,
     "metadata": {},
     "output_type": "execute_result"
    }
   ],
   "source": [
    "# Ajoutons la colonne 'proportion des personnes sous_alimentées' et calculons la proportion des personnes sous-alimentées\n",
    "personnes_sous_alimentées['proportion_personnes_sous_alimentées'] = personnes_sous_alimentées['Nombre_personnes']*100 / personnes_sous_alimentées['Nombre_habitants']\n",
    "personnes_sous_alimentées"
   ]
  },
  {
   "cell_type": "code",
   "execution_count": 431,
   "id": "f20ce10c",
   "metadata": {},
   "outputs": [
    {
     "data": {
      "text/html": [
       "<div>\n",
       "<style scoped>\n",
       "    .dataframe tbody tr th:only-of-type {\n",
       "        vertical-align: middle;\n",
       "    }\n",
       "\n",
       "    .dataframe tbody tr th {\n",
       "        vertical-align: top;\n",
       "    }\n",
       "\n",
       "    .dataframe thead th {\n",
       "        text-align: right;\n",
       "    }\n",
       "</style>\n",
       "<table border=\"1\" class=\"dataframe\">\n",
       "  <thead>\n",
       "    <tr style=\"text-align: right;\">\n",
       "      <th></th>\n",
       "      <th>Pays</th>\n",
       "      <th>proportion_personnes_sous_alimentées</th>\n",
       "    </tr>\n",
       "  </thead>\n",
       "  <tbody>\n",
       "    <tr>\n",
       "      <th>78</th>\n",
       "      <td>Haïti</td>\n",
       "      <td>48.259182</td>\n",
       "    </tr>\n",
       "    <tr>\n",
       "      <th>157</th>\n",
       "      <td>République populaire démocratique de Corée</td>\n",
       "      <td>47.188685</td>\n",
       "    </tr>\n",
       "    <tr>\n",
       "      <th>108</th>\n",
       "      <td>Madagascar</td>\n",
       "      <td>41.062924</td>\n",
       "    </tr>\n",
       "    <tr>\n",
       "      <th>103</th>\n",
       "      <td>Libéria</td>\n",
       "      <td>38.279742</td>\n",
       "    </tr>\n",
       "    <tr>\n",
       "      <th>100</th>\n",
       "      <td>Lesotho</td>\n",
       "      <td>38.249438</td>\n",
       "    </tr>\n",
       "    <tr>\n",
       "      <th>183</th>\n",
       "      <td>Tchad</td>\n",
       "      <td>37.957606</td>\n",
       "    </tr>\n",
       "    <tr>\n",
       "      <th>161</th>\n",
       "      <td>Rwanda</td>\n",
       "      <td>35.055619</td>\n",
       "    </tr>\n",
       "    <tr>\n",
       "      <th>121</th>\n",
       "      <td>Mozambique</td>\n",
       "      <td>32.810898</td>\n",
       "    </tr>\n",
       "    <tr>\n",
       "      <th>186</th>\n",
       "      <td>Timor-Leste</td>\n",
       "      <td>32.173531</td>\n",
       "    </tr>\n",
       "    <tr>\n",
       "      <th>0</th>\n",
       "      <td>Afghanistan</td>\n",
       "      <td>28.928718</td>\n",
       "    </tr>\n",
       "  </tbody>\n",
       "</table>\n",
       "</div>"
      ],
      "text/plain": [
       "                                           Pays  \\\n",
       "78                                        Haïti   \n",
       "157  République populaire démocratique de Corée   \n",
       "108                                  Madagascar   \n",
       "103                                     Libéria   \n",
       "100                                     Lesotho   \n",
       "183                                       Tchad   \n",
       "161                                      Rwanda   \n",
       "121                                  Mozambique   \n",
       "186                                 Timor-Leste   \n",
       "0                                   Afghanistan   \n",
       "\n",
       "     proportion_personnes_sous_alimentées  \n",
       "78                              48.259182  \n",
       "157                             47.188685  \n",
       "108                             41.062924  \n",
       "103                             38.279742  \n",
       "100                             38.249438  \n",
       "183                             37.957606  \n",
       "161                             35.055619  \n",
       "121                             32.810898  \n",
       "186                             32.173531  \n",
       "0                               28.928718  "
      ]
     },
     "execution_count": 431,
     "metadata": {},
     "output_type": "execute_result"
    }
   ],
   "source": [
    "# Trions les pays ayant les proportions les plus élevées en 2017\n",
    "proportion_personnes_sous_alimentées_pays_2017 = personnes_sous_alimentées[['Pays', 'proportion_personnes_sous_alimentées']].sort_values('proportion_personnes_sous_alimentées', ascending=False).head(10)\n",
    "proportion_personnes_sous_alimentées_pays_2017"
   ]
  },
  {
   "cell_type": "markdown",
   "id": "82a26576",
   "metadata": {},
   "source": [
    "En 2017, Haïti, la republique populaire démocratique de corée et Madagascar forment le top 3 des pays qui renferment le plus de personnes souffrant de sous-nutrition."
   ]
  },
  {
   "cell_type": "markdown",
   "id": "ee981b2c",
   "metadata": {},
   "source": [
    "#### II.2. Pays ayant reçus le plus d'aides depuis 2013"
   ]
  },
  {
   "cell_type": "code",
   "execution_count": 224,
   "id": "ed5c20ca",
   "metadata": {},
   "outputs": [
    {
     "data": {
      "text/html": [
       "<div>\n",
       "<style scoped>\n",
       "    .dataframe tbody tr th:only-of-type {\n",
       "        vertical-align: middle;\n",
       "    }\n",
       "\n",
       "    .dataframe tbody tr th {\n",
       "        vertical-align: top;\n",
       "    }\n",
       "\n",
       "    .dataframe thead th {\n",
       "        text-align: right;\n",
       "    }\n",
       "</style>\n",
       "<table border=\"1\" class=\"dataframe\">\n",
       "  <thead>\n",
       "    <tr style=\"text-align: right;\">\n",
       "      <th></th>\n",
       "      <th>Pays bénéficiaire</th>\n",
       "      <th>Année</th>\n",
       "      <th>Produit</th>\n",
       "      <th>Quantité</th>\n",
       "    </tr>\n",
       "  </thead>\n",
       "  <tbody>\n",
       "    <tr>\n",
       "      <th>0</th>\n",
       "      <td>Afghanistan</td>\n",
       "      <td>2013</td>\n",
       "      <td>Autres non-céréales</td>\n",
       "      <td>682000</td>\n",
       "    </tr>\n",
       "    <tr>\n",
       "      <th>1</th>\n",
       "      <td>Afghanistan</td>\n",
       "      <td>2014</td>\n",
       "      <td>Autres non-céréales</td>\n",
       "      <td>335000</td>\n",
       "    </tr>\n",
       "    <tr>\n",
       "      <th>2</th>\n",
       "      <td>Afghanistan</td>\n",
       "      <td>2013</td>\n",
       "      <td>Blé et Farin</td>\n",
       "      <td>39224000</td>\n",
       "    </tr>\n",
       "    <tr>\n",
       "      <th>3</th>\n",
       "      <td>Afghanistan</td>\n",
       "      <td>2014</td>\n",
       "      <td>Blé et Farin</td>\n",
       "      <td>15160000</td>\n",
       "    </tr>\n",
       "    <tr>\n",
       "      <th>4</th>\n",
       "      <td>Afghanistan</td>\n",
       "      <td>2013</td>\n",
       "      <td>Céréales</td>\n",
       "      <td>40504000</td>\n",
       "    </tr>\n",
       "    <tr>\n",
       "      <th>...</th>\n",
       "      <td>...</td>\n",
       "      <td>...</td>\n",
       "      <td>...</td>\n",
       "      <td>...</td>\n",
       "    </tr>\n",
       "    <tr>\n",
       "      <th>1470</th>\n",
       "      <td>Zimbabwe</td>\n",
       "      <td>2015</td>\n",
       "      <td>Mélanges et préparations</td>\n",
       "      <td>96000</td>\n",
       "    </tr>\n",
       "    <tr>\n",
       "      <th>1471</th>\n",
       "      <td>Zimbabwe</td>\n",
       "      <td>2013</td>\n",
       "      <td>Non-céréales</td>\n",
       "      <td>5022000</td>\n",
       "    </tr>\n",
       "    <tr>\n",
       "      <th>1472</th>\n",
       "      <td>Zimbabwe</td>\n",
       "      <td>2014</td>\n",
       "      <td>Non-céréales</td>\n",
       "      <td>2310000</td>\n",
       "    </tr>\n",
       "    <tr>\n",
       "      <th>1473</th>\n",
       "      <td>Zimbabwe</td>\n",
       "      <td>2015</td>\n",
       "      <td>Non-céréales</td>\n",
       "      <td>306000</td>\n",
       "    </tr>\n",
       "    <tr>\n",
       "      <th>1474</th>\n",
       "      <td>Zimbabwe</td>\n",
       "      <td>2013</td>\n",
       "      <td>Riz, total</td>\n",
       "      <td>64000</td>\n",
       "    </tr>\n",
       "  </tbody>\n",
       "</table>\n",
       "<p>1475 rows × 4 columns</p>\n",
       "</div>"
      ],
      "text/plain": [
       "     Pays bénéficiaire  Année                   Produit  Quantité\n",
       "0          Afghanistan   2013       Autres non-céréales    682000\n",
       "1          Afghanistan   2014       Autres non-céréales    335000\n",
       "2          Afghanistan   2013              Blé et Farin  39224000\n",
       "3          Afghanistan   2014              Blé et Farin  15160000\n",
       "4          Afghanistan   2013                  Céréales  40504000\n",
       "...                ...    ...                       ...       ...\n",
       "1470          Zimbabwe   2015  Mélanges et préparations     96000\n",
       "1471          Zimbabwe   2013              Non-céréales   5022000\n",
       "1472          Zimbabwe   2014              Non-céréales   2310000\n",
       "1473          Zimbabwe   2015              Non-céréales    306000\n",
       "1474          Zimbabwe   2013                Riz, total     64000\n",
       "\n",
       "[1475 rows x 4 columns]"
      ]
     },
     "execution_count": 224,
     "metadata": {},
     "output_type": "execute_result"
    }
   ],
   "source": [
    "# visualisons notre dataframe 'Aide-alimentaire'\n",
    "df_aide_alim"
   ]
  },
  {
   "cell_type": "code",
   "execution_count": 270,
   "id": "6016ba13",
   "metadata": {},
   "outputs": [
    {
     "data": {
      "text/plain": [
       "Pays bénéficiaire\n",
       "République arabe syrienne           1858943000\n",
       "Éthiopie                            1381294000\n",
       "Yémen                               1206484000\n",
       "Soudan du Sud                        695248000\n",
       "Soudan                               669784000\n",
       "Kenya                                552836000\n",
       "Bangladesh                           348188000\n",
       "Somalie                              292678000\n",
       "République démocratique du Congo     288502000\n",
       "Niger                                276344000\n",
       "Name: Quantité, dtype: int64"
      ]
     },
     "execution_count": 270,
     "metadata": {},
     "output_type": "execute_result"
    }
   ],
   "source": [
    "# Trions les pays ayant reçus les plus d'aides depuis 2013\n",
    "df_aide_alim.groupby(['Pays bénéficiaire'])['Quantité'].sum().sort_values(ascending=False).head(10)"
   ]
  },
  {
   "cell_type": "markdown",
   "id": "7807f601",
   "metadata": {},
   "source": [
    "Depuis 2013, les 3 premiers pays ayant reçus le plus d'aides alimentaires sont la République arabe syrienne, l'Ethiopie, le Yémen avec plus d'un milliard de tonnes "
   ]
  },
  {
   "cell_type": "markdown",
   "id": "021d96bf",
   "metadata": {},
   "source": [
    "#### II.3. Pays ayant le plus/le moins de disponibilité/habitant"
   ]
  },
  {
   "cell_type": "code",
   "execution_count": 551,
   "id": "a624767d",
   "metadata": {},
   "outputs": [
    {
     "data": {
      "text/plain": [
       "Pays\n",
       "République centrafricaine                     1879.0\n",
       "Zambie                                        1924.0\n",
       "Madagascar                                    2056.0\n",
       "Afghanistan                                   2087.0\n",
       "Haïti                                         2089.0\n",
       "République populaire démocratique de Corée    2093.0\n",
       "Tchad                                         2109.0\n",
       "Zimbabwe                                      2113.0\n",
       "Ouganda                                       2126.0\n",
       "Timor-Leste                                   2129.0\n",
       "Name: Dispo_alim_kcal, dtype: float64"
      ]
     },
     "execution_count": 551,
     "metadata": {},
     "output_type": "execute_result"
    }
   ],
   "source": [
    "# Trions les pays ayant le moins de disponibilité alimentaire\n",
    "df_dispon_alim.groupby(['Pays'])['Dispo_alim_kcal'].sum().sort_values(ascending=True).head(10)"
   ]
  },
  {
   "cell_type": "markdown",
   "id": "d627bd6c",
   "metadata": {},
   "source": [
    "Les besoins alimentaires d'un individu étant évalués à 2.500 kcal par jour en moyenne, les habitants des pays dont la disponibilité alimentaire par habitant est le moins élevé ont un apport calorique jour ne permettant pas de couvrir les besoins en énergie."
   ]
  },
  {
   "cell_type": "code",
   "execution_count": 549,
   "id": "2180be61",
   "metadata": {},
   "outputs": [
    {
     "data": {
      "text/plain": [
       "Pays\n",
       "Autriche                 3770.0\n",
       "Belgique                 3737.0\n",
       "Turquie                  3708.0\n",
       "États-Unis d'Amérique    3682.0\n",
       "Israël                   3610.0\n",
       "Irlande                  3602.0\n",
       "Italie                   3578.0\n",
       "Luxembourg               3540.0\n",
       "Égypte                   3518.0\n",
       "Allemagne                3503.0\n",
       "Name: Dispo_alim_kcal, dtype: float64"
      ]
     },
     "execution_count": 549,
     "metadata": {},
     "output_type": "execute_result"
    }
   ],
   "source": [
    "# Trions les pays ayant le plus de disponibilité alimentaire\n",
    "df_dispon_alim.groupby(['Pays'])['Dispo_alim_kcal'].sum().sort_values(ascending=False).head(10)"
   ]
  },
  {
   "cell_type": "markdown",
   "id": "0231206e",
   "metadata": {},
   "source": [
    "Les besoins alimentaires d'un individu étant évalués à 2.500 kcal par jour en moyenne, les habitants des pays dont la disponibilité alimentaire par habitant est le plus élevé ont un apport calorique jour permettant de couvrir les besoins en énergie."
   ]
  },
  {
   "cell_type": "markdown",
   "id": "eef73005",
   "metadata": {},
   "source": [
    "### III. Notes de Julien"
   ]
  },
  {
   "cell_type": "markdown",
   "id": "3fadeb1d",
   "metadata": {},
   "source": [
    "#### III.1. Travaux préalables"
   ]
  },
  {
   "cell_type": "code",
   "execution_count": 500,
   "id": "262ffa67",
   "metadata": {},
   "outputs": [
    {
     "data": {
      "text/plain": [
       "['Blé',\n",
       " 'Riz (Eq Blanchi)',\n",
       " 'Orge',\n",
       " 'Maïs',\n",
       " 'Millet',\n",
       " 'Céréales, Autres',\n",
       " 'Seigle',\n",
       " 'Avoine',\n",
       " 'Sorgho']"
      ]
     },
     "execution_count": 500,
     "metadata": {},
     "output_type": "execute_result"
    }
   ],
   "source": [
    "# Créeons une liste de cereales à partir du bilan alimentaire de la FAO\n",
    "liste_cereales = ['Blé','Riz (Eq Blanchi)','Orge','Maïs','Millet','Céréales, Autres','Seigle','Avoine','Sorgho']\n",
    "liste_cereales"
   ]
  },
  {
   "cell_type": "code",
   "execution_count": 525,
   "id": "a4191069",
   "metadata": {},
   "outputs": [
    {
     "data": {
      "text/plain": [
       "array(['Blé', 'Céréales, Autres', 'Maïs', 'Millet', 'Orge',\n",
       "       'Riz (Eq Blanchi)', 'Avoine', 'Seigle', 'Sorgho'], dtype=object)"
      ]
     },
     "execution_count": 525,
     "metadata": {},
     "output_type": "execute_result"
    }
   ],
   "source": [
    "#  Générons notre dataframe en filtant avec la condition isin\n",
    "df_cereales = df_dispon_alim[df_dispon_alim[\"Produit\"].isin(liste_cereales)]\n",
    "df_cereales[\"Produit\"].unique()"
   ]
  },
  {
   "cell_type": "code",
   "execution_count": 526,
   "id": "3dc26954",
   "metadata": {},
   "outputs": [
    {
     "data": {
      "text/html": [
       "<div>\n",
       "<style scoped>\n",
       "    .dataframe tbody tr th:only-of-type {\n",
       "        vertical-align: middle;\n",
       "    }\n",
       "\n",
       "    .dataframe tbody tr th {\n",
       "        vertical-align: top;\n",
       "    }\n",
       "\n",
       "    .dataframe thead th {\n",
       "        text-align: right;\n",
       "    }\n",
       "</style>\n",
       "<table border=\"1\" class=\"dataframe\">\n",
       "  <thead>\n",
       "    <tr style=\"text-align: right;\">\n",
       "      <th></th>\n",
       "      <th>Pays</th>\n",
       "      <th>Produit</th>\n",
       "      <th>Origine</th>\n",
       "      <th>Aliments_Animaux</th>\n",
       "      <th>Autres_utilisations</th>\n",
       "      <th>Dispo_alim_kcal</th>\n",
       "      <th>Dispo_alim_qte</th>\n",
       "      <th>Dispo_mat_gras_qte</th>\n",
       "      <th>Dispo_prot_qte</th>\n",
       "      <th>Dispo_inter</th>\n",
       "      <th>Export_qte</th>\n",
       "      <th>Import_qte</th>\n",
       "      <th>Nourriture</th>\n",
       "      <th>Pertes</th>\n",
       "      <th>Production</th>\n",
       "      <th>Semences</th>\n",
       "      <th>Traitement</th>\n",
       "      <th>Var_stock</th>\n",
       "    </tr>\n",
       "  </thead>\n",
       "  <tbody>\n",
       "    <tr>\n",
       "      <th>7</th>\n",
       "      <td>Afghanistan</td>\n",
       "      <td>Blé</td>\n",
       "      <td>vegetale</td>\n",
       "      <td>0.0</td>\n",
       "      <td>0.0</td>\n",
       "      <td>1369.0</td>\n",
       "      <td>160.23</td>\n",
       "      <td>4.69</td>\n",
       "      <td>36.91</td>\n",
       "      <td>5.992000e+09</td>\n",
       "      <td>0.0</td>\n",
       "      <td>1.173000e+09</td>\n",
       "      <td>4.895000e+09</td>\n",
       "      <td>775000000.0</td>\n",
       "      <td>5.169000e+09</td>\n",
       "      <td>322000000.0</td>\n",
       "      <td>0.0</td>\n",
       "      <td>-350.0</td>\n",
       "    </tr>\n",
       "    <tr>\n",
       "      <th>12</th>\n",
       "      <td>Afghanistan</td>\n",
       "      <td>Céréales, Autres</td>\n",
       "      <td>vegetale</td>\n",
       "      <td>0.0</td>\n",
       "      <td>0.0</td>\n",
       "      <td>0.0</td>\n",
       "      <td>0.00</td>\n",
       "      <td>0.00</td>\n",
       "      <td>0.00</td>\n",
       "      <td>0.000000e+00</td>\n",
       "      <td>0.0</td>\n",
       "      <td>0.000000e+00</td>\n",
       "      <td>0.000000e+00</td>\n",
       "      <td>0.0</td>\n",
       "      <td>0.000000e+00</td>\n",
       "      <td>0.0</td>\n",
       "      <td>0.0</td>\n",
       "      <td>0.0</td>\n",
       "    </tr>\n",
       "    <tr>\n",
       "      <th>32</th>\n",
       "      <td>Afghanistan</td>\n",
       "      <td>Maïs</td>\n",
       "      <td>vegetale</td>\n",
       "      <td>200000000.0</td>\n",
       "      <td>0.0</td>\n",
       "      <td>21.0</td>\n",
       "      <td>2.50</td>\n",
       "      <td>0.30</td>\n",
       "      <td>0.56</td>\n",
       "      <td>3.130000e+08</td>\n",
       "      <td>0.0</td>\n",
       "      <td>1.000000e+06</td>\n",
       "      <td>7.600000e+07</td>\n",
       "      <td>31000000.0</td>\n",
       "      <td>3.120000e+08</td>\n",
       "      <td>5000000.0</td>\n",
       "      <td>0.0</td>\n",
       "      <td>0.0</td>\n",
       "    </tr>\n",
       "    <tr>\n",
       "      <th>34</th>\n",
       "      <td>Afghanistan</td>\n",
       "      <td>Millet</td>\n",
       "      <td>vegetale</td>\n",
       "      <td>0.0</td>\n",
       "      <td>0.0</td>\n",
       "      <td>3.0</td>\n",
       "      <td>0.40</td>\n",
       "      <td>0.02</td>\n",
       "      <td>0.08</td>\n",
       "      <td>1.300000e+07</td>\n",
       "      <td>0.0</td>\n",
       "      <td>0.000000e+00</td>\n",
       "      <td>1.200000e+07</td>\n",
       "      <td>1000000.0</td>\n",
       "      <td>1.300000e+07</td>\n",
       "      <td>0.0</td>\n",
       "      <td>0.0</td>\n",
       "      <td>0.0</td>\n",
       "    </tr>\n",
       "    <tr>\n",
       "      <th>40</th>\n",
       "      <td>Afghanistan</td>\n",
       "      <td>Orge</td>\n",
       "      <td>vegetale</td>\n",
       "      <td>360000000.0</td>\n",
       "      <td>0.0</td>\n",
       "      <td>26.0</td>\n",
       "      <td>2.92</td>\n",
       "      <td>0.24</td>\n",
       "      <td>0.79</td>\n",
       "      <td>5.240000e+08</td>\n",
       "      <td>0.0</td>\n",
       "      <td>1.000000e+07</td>\n",
       "      <td>8.900000e+07</td>\n",
       "      <td>52000000.0</td>\n",
       "      <td>5.140000e+08</td>\n",
       "      <td>22000000.0</td>\n",
       "      <td>0.0</td>\n",
       "      <td>0.0</td>\n",
       "    </tr>\n",
       "    <tr>\n",
       "      <th>...</th>\n",
       "      <td>...</td>\n",
       "      <td>...</td>\n",
       "      <td>...</td>\n",
       "      <td>...</td>\n",
       "      <td>...</td>\n",
       "      <td>...</td>\n",
       "      <td>...</td>\n",
       "      <td>...</td>\n",
       "      <td>...</td>\n",
       "      <td>...</td>\n",
       "      <td>...</td>\n",
       "      <td>...</td>\n",
       "      <td>...</td>\n",
       "      <td>...</td>\n",
       "      <td>...</td>\n",
       "      <td>...</td>\n",
       "      <td>...</td>\n",
       "      <td>...</td>\n",
       "    </tr>\n",
       "    <tr>\n",
       "      <th>15545</th>\n",
       "      <td>Îles Salomon</td>\n",
       "      <td>Céréales, Autres</td>\n",
       "      <td>vegetale</td>\n",
       "      <td>0.0</td>\n",
       "      <td>0.0</td>\n",
       "      <td>0.0</td>\n",
       "      <td>0.00</td>\n",
       "      <td>0.00</td>\n",
       "      <td>0.00</td>\n",
       "      <td>0.000000e+00</td>\n",
       "      <td>0.0</td>\n",
       "      <td>0.000000e+00</td>\n",
       "      <td>0.000000e+00</td>\n",
       "      <td>0.0</td>\n",
       "      <td>0.000000e+00</td>\n",
       "      <td>0.0</td>\n",
       "      <td>0.0</td>\n",
       "      <td>0.0</td>\n",
       "    </tr>\n",
       "    <tr>\n",
       "      <th>15568</th>\n",
       "      <td>Îles Salomon</td>\n",
       "      <td>Maïs</td>\n",
       "      <td>vegetale</td>\n",
       "      <td>0.0</td>\n",
       "      <td>0.0</td>\n",
       "      <td>1.0</td>\n",
       "      <td>0.15</td>\n",
       "      <td>0.01</td>\n",
       "      <td>0.03</td>\n",
       "      <td>0.000000e+00</td>\n",
       "      <td>0.0</td>\n",
       "      <td>0.000000e+00</td>\n",
       "      <td>0.000000e+00</td>\n",
       "      <td>0.0</td>\n",
       "      <td>0.000000e+00</td>\n",
       "      <td>0.0</td>\n",
       "      <td>0.0</td>\n",
       "      <td>0.0</td>\n",
       "    </tr>\n",
       "    <tr>\n",
       "      <th>15575</th>\n",
       "      <td>Îles Salomon</td>\n",
       "      <td>Orge</td>\n",
       "      <td>vegetale</td>\n",
       "      <td>0.0</td>\n",
       "      <td>0.0</td>\n",
       "      <td>0.0</td>\n",
       "      <td>0.07</td>\n",
       "      <td>0.00</td>\n",
       "      <td>0.01</td>\n",
       "      <td>1.000000e+06</td>\n",
       "      <td>0.0</td>\n",
       "      <td>1.000000e+06</td>\n",
       "      <td>0.000000e+00</td>\n",
       "      <td>0.0</td>\n",
       "      <td>0.000000e+00</td>\n",
       "      <td>0.0</td>\n",
       "      <td>1000000.0</td>\n",
       "      <td>0.0</td>\n",
       "    </tr>\n",
       "    <tr>\n",
       "      <th>15591</th>\n",
       "      <td>Îles Salomon</td>\n",
       "      <td>Riz (Eq Blanchi)</td>\n",
       "      <td>vegetale</td>\n",
       "      <td>0.0</td>\n",
       "      <td>12000000.0</td>\n",
       "      <td>623.0</td>\n",
       "      <td>63.76</td>\n",
       "      <td>1.36</td>\n",
       "      <td>10.90</td>\n",
       "      <td>4.900000e+07</td>\n",
       "      <td>0.0</td>\n",
       "      <td>4.700000e+07</td>\n",
       "      <td>3.600000e+07</td>\n",
       "      <td>1000000.0</td>\n",
       "      <td>3.000000e+06</td>\n",
       "      <td>0.0</td>\n",
       "      <td>0.0</td>\n",
       "      <td>0.0</td>\n",
       "    </tr>\n",
       "    <tr>\n",
       "      <th>15593</th>\n",
       "      <td>Îles Salomon</td>\n",
       "      <td>Sorgho</td>\n",
       "      <td>vegetale</td>\n",
       "      <td>0.0</td>\n",
       "      <td>0.0</td>\n",
       "      <td>0.0</td>\n",
       "      <td>0.00</td>\n",
       "      <td>0.00</td>\n",
       "      <td>0.00</td>\n",
       "      <td>0.000000e+00</td>\n",
       "      <td>0.0</td>\n",
       "      <td>0.000000e+00</td>\n",
       "      <td>0.000000e+00</td>\n",
       "      <td>0.0</td>\n",
       "      <td>0.000000e+00</td>\n",
       "      <td>0.0</td>\n",
       "      <td>0.0</td>\n",
       "      <td>0.0</td>\n",
       "    </tr>\n",
       "  </tbody>\n",
       "</table>\n",
       "<p>1497 rows × 18 columns</p>\n",
       "</div>"
      ],
      "text/plain": [
       "               Pays           Produit   Origine  Aliments_Animaux  \\\n",
       "7       Afghanistan               Blé  vegetale               0.0   \n",
       "12      Afghanistan  Céréales, Autres  vegetale               0.0   \n",
       "32      Afghanistan              Maïs  vegetale       200000000.0   \n",
       "34      Afghanistan            Millet  vegetale               0.0   \n",
       "40      Afghanistan              Orge  vegetale       360000000.0   \n",
       "...             ...               ...       ...               ...   \n",
       "15545  Îles Salomon  Céréales, Autres  vegetale               0.0   \n",
       "15568  Îles Salomon              Maïs  vegetale               0.0   \n",
       "15575  Îles Salomon              Orge  vegetale               0.0   \n",
       "15591  Îles Salomon  Riz (Eq Blanchi)  vegetale               0.0   \n",
       "15593  Îles Salomon            Sorgho  vegetale               0.0   \n",
       "\n",
       "       Autres_utilisations  Dispo_alim_kcal  Dispo_alim_qte  \\\n",
       "7                      0.0           1369.0          160.23   \n",
       "12                     0.0              0.0            0.00   \n",
       "32                     0.0             21.0            2.50   \n",
       "34                     0.0              3.0            0.40   \n",
       "40                     0.0             26.0            2.92   \n",
       "...                    ...              ...             ...   \n",
       "15545                  0.0              0.0            0.00   \n",
       "15568                  0.0              1.0            0.15   \n",
       "15575                  0.0              0.0            0.07   \n",
       "15591           12000000.0            623.0           63.76   \n",
       "15593                  0.0              0.0            0.00   \n",
       "\n",
       "       Dispo_mat_gras_qte  Dispo_prot_qte   Dispo_inter  Export_qte  \\\n",
       "7                    4.69           36.91  5.992000e+09         0.0   \n",
       "12                   0.00            0.00  0.000000e+00         0.0   \n",
       "32                   0.30            0.56  3.130000e+08         0.0   \n",
       "34                   0.02            0.08  1.300000e+07         0.0   \n",
       "40                   0.24            0.79  5.240000e+08         0.0   \n",
       "...                   ...             ...           ...         ...   \n",
       "15545                0.00            0.00  0.000000e+00         0.0   \n",
       "15568                0.01            0.03  0.000000e+00         0.0   \n",
       "15575                0.00            0.01  1.000000e+06         0.0   \n",
       "15591                1.36           10.90  4.900000e+07         0.0   \n",
       "15593                0.00            0.00  0.000000e+00         0.0   \n",
       "\n",
       "         Import_qte    Nourriture       Pertes    Production     Semences  \\\n",
       "7      1.173000e+09  4.895000e+09  775000000.0  5.169000e+09  322000000.0   \n",
       "12     0.000000e+00  0.000000e+00          0.0  0.000000e+00          0.0   \n",
       "32     1.000000e+06  7.600000e+07   31000000.0  3.120000e+08    5000000.0   \n",
       "34     0.000000e+00  1.200000e+07    1000000.0  1.300000e+07          0.0   \n",
       "40     1.000000e+07  8.900000e+07   52000000.0  5.140000e+08   22000000.0   \n",
       "...             ...           ...          ...           ...          ...   \n",
       "15545  0.000000e+00  0.000000e+00          0.0  0.000000e+00          0.0   \n",
       "15568  0.000000e+00  0.000000e+00          0.0  0.000000e+00          0.0   \n",
       "15575  1.000000e+06  0.000000e+00          0.0  0.000000e+00          0.0   \n",
       "15591  4.700000e+07  3.600000e+07    1000000.0  3.000000e+06          0.0   \n",
       "15593  0.000000e+00  0.000000e+00          0.0  0.000000e+00          0.0   \n",
       "\n",
       "       Traitement  Var_stock  \n",
       "7             0.0     -350.0  \n",
       "12            0.0        0.0  \n",
       "32            0.0        0.0  \n",
       "34            0.0        0.0  \n",
       "40            0.0        0.0  \n",
       "...           ...        ...  \n",
       "15545         0.0        0.0  \n",
       "15568         0.0        0.0  \n",
       "15575   1000000.0        0.0  \n",
       "15591         0.0        0.0  \n",
       "15593         0.0        0.0  \n",
       "\n",
       "[1497 rows x 18 columns]"
      ]
     },
     "execution_count": 526,
     "metadata": {},
     "output_type": "execute_result"
    }
   ],
   "source": [
    "# Affichons notre nouveau dataframe \n",
    "df_cereales"
   ]
  },
  {
   "cell_type": "markdown",
   "id": "c46e2210",
   "metadata": {},
   "source": [
    "#### III.2. Calcul de la proportion des céréales utilisée dans l'alimentation humaine"
   ]
  },
  {
   "cell_type": "code",
   "execution_count": 528,
   "id": "0db98ceb",
   "metadata": {},
   "outputs": [
    {
     "name": "stdout",
     "output_type": "stream",
     "text": [
      "La proportion des céréales dans lalimentation humaine est de 42.75%\n"
     ]
    }
   ],
   "source": [
    "# Faisons le rapport entre la nourriture et la disponibilité intérieure\n",
    "proportion_cereales_alimentation_humaine = df_cereales['Nourriture'].sum() * 100 / df_cereales['Dispo_inter'].sum()\n",
    "proportion_cereales_alimentation_humaine \n",
    "print(f'La proportion des céréales dans lalimentation humaine est de {proportion_cereales_alimentation_humaine:.2f}%')"
   ]
  },
  {
   "cell_type": "markdown",
   "id": "8a45442f",
   "metadata": {},
   "source": [
    "#### III.3. Calcul de la proportion des céréales utilisée dans l'alimentation animale"
   ]
  },
  {
   "cell_type": "code",
   "execution_count": 530,
   "id": "c7002a61",
   "metadata": {},
   "outputs": [
    {
     "name": "stdout",
     "output_type": "stream",
     "text": [
      "La proportion des céréales dans lalimentation animale est de 36.29%\n"
     ]
    }
   ],
   "source": [
    "# Faisons le rapport entre les aliments pour animaux et la disponibilité intérieure\n",
    "proportion_cereales_alimentation_animale = df_cereales['Aliments_Animaux'].sum() * 100 / df_cereales['Dispo_inter'].sum()\n",
    "proportion_cereales_alimentation_animale\n",
    "print(f'La proportion des céréales dans lalimentation animale est de {proportion_cereales_alimentation_animale:.2f}%')"
   ]
  },
  {
   "cell_type": "markdown",
   "id": "c8daa517",
   "metadata": {},
   "source": [
    "#### III.4. Utilisation du manioc par la Thaïlande aux égards de la proportion de personnes en sous-nutrition"
   ]
  },
  {
   "cell_type": "code",
   "execution_count": 379,
   "id": "01e57ac9",
   "metadata": {},
   "outputs": [
    {
     "data": {
      "text/html": [
       "<div>\n",
       "<style scoped>\n",
       "    .dataframe tbody tr th:only-of-type {\n",
       "        vertical-align: middle;\n",
       "    }\n",
       "\n",
       "    .dataframe tbody tr th {\n",
       "        vertical-align: top;\n",
       "    }\n",
       "\n",
       "    .dataframe thead th {\n",
       "        text-align: right;\n",
       "    }\n",
       "</style>\n",
       "<table border=\"1\" class=\"dataframe\">\n",
       "  <thead>\n",
       "    <tr style=\"text-align: right;\">\n",
       "      <th></th>\n",
       "      <th>Pays</th>\n",
       "      <th>Année</th>\n",
       "      <th>Nombre_habitants</th>\n",
       "    </tr>\n",
       "  </thead>\n",
       "  <tbody>\n",
       "    <tr>\n",
       "      <th>4</th>\n",
       "      <td>Afghanistan</td>\n",
       "      <td>2017</td>\n",
       "      <td>36296113</td>\n",
       "    </tr>\n",
       "    <tr>\n",
       "      <th>10</th>\n",
       "      <td>Afrique du Sud</td>\n",
       "      <td>2017</td>\n",
       "      <td>57009756</td>\n",
       "    </tr>\n",
       "    <tr>\n",
       "      <th>16</th>\n",
       "      <td>Albanie</td>\n",
       "      <td>2017</td>\n",
       "      <td>2884169</td>\n",
       "    </tr>\n",
       "    <tr>\n",
       "      <th>22</th>\n",
       "      <td>Algérie</td>\n",
       "      <td>2017</td>\n",
       "      <td>41389189</td>\n",
       "    </tr>\n",
       "    <tr>\n",
       "      <th>28</th>\n",
       "      <td>Allemagne</td>\n",
       "      <td>2017</td>\n",
       "      <td>82658409</td>\n",
       "    </tr>\n",
       "    <tr>\n",
       "      <th>...</th>\n",
       "      <td>...</td>\n",
       "      <td>...</td>\n",
       "      <td>...</td>\n",
       "    </tr>\n",
       "    <tr>\n",
       "      <th>1390</th>\n",
       "      <td>Venezuela (République bolivarienne du)</td>\n",
       "      <td>2017</td>\n",
       "      <td>29402484</td>\n",
       "    </tr>\n",
       "    <tr>\n",
       "      <th>1396</th>\n",
       "      <td>Viet Nam</td>\n",
       "      <td>2017</td>\n",
       "      <td>94600648</td>\n",
       "    </tr>\n",
       "    <tr>\n",
       "      <th>1402</th>\n",
       "      <td>Yémen</td>\n",
       "      <td>2017</td>\n",
       "      <td>27834819</td>\n",
       "    </tr>\n",
       "    <tr>\n",
       "      <th>1408</th>\n",
       "      <td>Zambie</td>\n",
       "      <td>2017</td>\n",
       "      <td>16853599</td>\n",
       "    </tr>\n",
       "    <tr>\n",
       "      <th>1414</th>\n",
       "      <td>Zimbabwe</td>\n",
       "      <td>2017</td>\n",
       "      <td>14236595</td>\n",
       "    </tr>\n",
       "  </tbody>\n",
       "</table>\n",
       "<p>236 rows × 3 columns</p>\n",
       "</div>"
      ],
      "text/plain": [
       "                                        Pays  Année  Nombre_habitants\n",
       "4                                Afghanistan   2017          36296113\n",
       "10                            Afrique du Sud   2017          57009756\n",
       "16                                   Albanie   2017           2884169\n",
       "22                                   Algérie   2017          41389189\n",
       "28                                 Allemagne   2017          82658409\n",
       "...                                      ...    ...               ...\n",
       "1390  Venezuela (République bolivarienne du)   2017          29402484\n",
       "1396                                Viet Nam   2017          94600648\n",
       "1402                                   Yémen   2017          27834819\n",
       "1408                                  Zambie   2017          16853599\n",
       "1414                                Zimbabwe   2017          14236595\n",
       "\n",
       "[236 rows x 3 columns]"
      ]
     },
     "execution_count": 379,
     "metadata": {},
     "output_type": "execute_result"
    }
   ],
   "source": [
    "# visualisons notre dataframe 'Population de 2017'\n",
    "df_population_2017"
   ]
  },
  {
   "cell_type": "code",
   "execution_count": 413,
   "id": "1253d71a",
   "metadata": {},
   "outputs": [
    {
     "data": {
      "text/html": [
       "<div>\n",
       "<style scoped>\n",
       "    .dataframe tbody tr th:only-of-type {\n",
       "        vertical-align: middle;\n",
       "    }\n",
       "\n",
       "    .dataframe tbody tr th {\n",
       "        vertical-align: top;\n",
       "    }\n",
       "\n",
       "    .dataframe thead th {\n",
       "        text-align: right;\n",
       "    }\n",
       "</style>\n",
       "<table border=\"1\" class=\"dataframe\">\n",
       "  <thead>\n",
       "    <tr style=\"text-align: right;\">\n",
       "      <th></th>\n",
       "      <th>Pays</th>\n",
       "      <th>Année</th>\n",
       "      <th>Nombre_habitants</th>\n",
       "    </tr>\n",
       "  </thead>\n",
       "  <tbody>\n",
       "    <tr>\n",
       "      <th>1312</th>\n",
       "      <td>Thaïlande</td>\n",
       "      <td>2017</td>\n",
       "      <td>69209810</td>\n",
       "    </tr>\n",
       "  </tbody>\n",
       "</table>\n",
       "</div>"
      ],
      "text/plain": [
       "           Pays  Année  Nombre_habitants\n",
       "1312  Thaïlande   2017          69209810"
      ]
     },
     "execution_count": 413,
     "metadata": {},
     "output_type": "execute_result"
    }
   ],
   "source": [
    "# filtrons la population de thailande sur l'année 2017\n",
    "population_thailande_2017 = df_population_2017[df_population_2017.Pays=='Thaïlande']\n",
    "population_thailande_2017"
   ]
  },
  {
   "cell_type": "code",
   "execution_count": 534,
   "id": "9ca0481e",
   "metadata": {},
   "outputs": [
    {
     "name": "stdout",
     "output_type": "stream",
     "text": [
      "Le nombre de Thaïlandais en 2017 est de 69209810\n"
     ]
    }
   ],
   "source": [
    "# Affichons la population de la Thailande en 2017\n",
    "nombre_habitants_thailande_2017 = population_thailande_2017['Nombre_habitants'].sum()\n",
    "nombre_habitants_thailande_2017\n",
    "print(f'Le nombre de Thaïlandais en 2017 est de {nombre_habitants_thailande_2017:}')"
   ]
  },
  {
   "cell_type": "code",
   "execution_count": 418,
   "id": "1aeb277c",
   "metadata": {},
   "outputs": [
    {
     "data": {
      "text/html": [
       "<div>\n",
       "<style scoped>\n",
       "    .dataframe tbody tr th:only-of-type {\n",
       "        vertical-align: middle;\n",
       "    }\n",
       "\n",
       "    .dataframe tbody tr th {\n",
       "        vertical-align: top;\n",
       "    }\n",
       "\n",
       "    .dataframe thead th {\n",
       "        text-align: right;\n",
       "    }\n",
       "</style>\n",
       "<table border=\"1\" class=\"dataframe\">\n",
       "  <thead>\n",
       "    <tr style=\"text-align: right;\">\n",
       "      <th></th>\n",
       "      <th>Pays</th>\n",
       "      <th>Année</th>\n",
       "      <th>Nombre_personnes</th>\n",
       "    </tr>\n",
       "  </thead>\n",
       "  <tbody>\n",
       "    <tr>\n",
       "      <th>4</th>\n",
       "      <td>Afghanistan</td>\n",
       "      <td>2016-2018</td>\n",
       "      <td>10500000.0</td>\n",
       "    </tr>\n",
       "    <tr>\n",
       "      <th>10</th>\n",
       "      <td>Afrique du Sud</td>\n",
       "      <td>2016-2018</td>\n",
       "      <td>3100000.0</td>\n",
       "    </tr>\n",
       "    <tr>\n",
       "      <th>16</th>\n",
       "      <td>Albanie</td>\n",
       "      <td>2016-2018</td>\n",
       "      <td>100000.0</td>\n",
       "    </tr>\n",
       "    <tr>\n",
       "      <th>22</th>\n",
       "      <td>Algérie</td>\n",
       "      <td>2016-2018</td>\n",
       "      <td>1300000.0</td>\n",
       "    </tr>\n",
       "    <tr>\n",
       "      <th>28</th>\n",
       "      <td>Allemagne</td>\n",
       "      <td>2016-2018</td>\n",
       "      <td>0.0</td>\n",
       "    </tr>\n",
       "    <tr>\n",
       "      <th>...</th>\n",
       "      <td>...</td>\n",
       "      <td>...</td>\n",
       "      <td>...</td>\n",
       "    </tr>\n",
       "    <tr>\n",
       "      <th>1192</th>\n",
       "      <td>Venezuela (République bolivarienne du)</td>\n",
       "      <td>2016-2018</td>\n",
       "      <td>8000000.0</td>\n",
       "    </tr>\n",
       "    <tr>\n",
       "      <th>1198</th>\n",
       "      <td>Viet Nam</td>\n",
       "      <td>2016-2018</td>\n",
       "      <td>6500000.0</td>\n",
       "    </tr>\n",
       "    <tr>\n",
       "      <th>1204</th>\n",
       "      <td>Yémen</td>\n",
       "      <td>2016-2018</td>\n",
       "      <td>0.0</td>\n",
       "    </tr>\n",
       "    <tr>\n",
       "      <th>1210</th>\n",
       "      <td>Zambie</td>\n",
       "      <td>2016-2018</td>\n",
       "      <td>0.0</td>\n",
       "    </tr>\n",
       "    <tr>\n",
       "      <th>1216</th>\n",
       "      <td>Zimbabwe</td>\n",
       "      <td>2016-2018</td>\n",
       "      <td>0.0</td>\n",
       "    </tr>\n",
       "  </tbody>\n",
       "</table>\n",
       "<p>203 rows × 3 columns</p>\n",
       "</div>"
      ],
      "text/plain": [
       "                                        Pays      Année  Nombre_personnes\n",
       "4                                Afghanistan  2016-2018        10500000.0\n",
       "10                            Afrique du Sud  2016-2018         3100000.0\n",
       "16                                   Albanie  2016-2018          100000.0\n",
       "22                                   Algérie  2016-2018         1300000.0\n",
       "28                                 Allemagne  2016-2018               0.0\n",
       "...                                      ...        ...               ...\n",
       "1192  Venezuela (République bolivarienne du)  2016-2018         8000000.0\n",
       "1198                                Viet Nam  2016-2018         6500000.0\n",
       "1204                                   Yémen  2016-2018               0.0\n",
       "1210                                  Zambie  2016-2018               0.0\n",
       "1216                                Zimbabwe  2016-2018               0.0\n",
       "\n",
       "[203 rows x 3 columns]"
      ]
     },
     "execution_count": 418,
     "metadata": {},
     "output_type": "execute_result"
    }
   ],
   "source": [
    "# visualisons notre dataframe 'Sous-nutrition de 2017'\n",
    "df_sous_nutrition_2017"
   ]
  },
  {
   "cell_type": "code",
   "execution_count": 421,
   "id": "8d9ea421",
   "metadata": {},
   "outputs": [
    {
     "data": {
      "text/html": [
       "<div>\n",
       "<style scoped>\n",
       "    .dataframe tbody tr th:only-of-type {\n",
       "        vertical-align: middle;\n",
       "    }\n",
       "\n",
       "    .dataframe tbody tr th {\n",
       "        vertical-align: top;\n",
       "    }\n",
       "\n",
       "    .dataframe thead th {\n",
       "        text-align: right;\n",
       "    }\n",
       "</style>\n",
       "<table border=\"1\" class=\"dataframe\">\n",
       "  <thead>\n",
       "    <tr style=\"text-align: right;\">\n",
       "      <th></th>\n",
       "      <th>Pays</th>\n",
       "      <th>Année</th>\n",
       "      <th>Nombre_personnes</th>\n",
       "    </tr>\n",
       "  </thead>\n",
       "  <tbody>\n",
       "    <tr>\n",
       "      <th>1114</th>\n",
       "      <td>Thaïlande</td>\n",
       "      <td>2016-2018</td>\n",
       "      <td>6200000.0</td>\n",
       "    </tr>\n",
       "  </tbody>\n",
       "</table>\n",
       "</div>"
      ],
      "text/plain": [
       "           Pays      Année  Nombre_personnes\n",
       "1114  Thaïlande  2016-2018         6200000.0"
      ]
     },
     "execution_count": 421,
     "metadata": {},
     "output_type": "execute_result"
    }
   ],
   "source": [
    "# filtrons le nombre de personnes en sous_nutrition en thailande sur l'année 2017\n",
    "sous_nutrition_thailande_2017 = df_sous_nutrition_2017[df_sous_nutrition_2017.Pays=='Thaïlande']\n",
    "sous_nutrition_thailande_2017"
   ]
  },
  {
   "cell_type": "code",
   "execution_count": 538,
   "id": "1723e8de",
   "metadata": {},
   "outputs": [
    {
     "name": "stdout",
     "output_type": "stream",
     "text": [
      "Le nombre de Thaïlandais en état de sous-nutrition en 2017 est de 6200000\n"
     ]
    }
   ],
   "source": [
    "# Affichons le nombre de personnes en état de sous-nutrition en Thaïlande en 2017\n",
    "nombre_personnes_thailande_2017 =sous_nutrition_thailande_2017['Nombre_personnes'].sum()\n",
    "nombre_personnes_thailande_2017\n",
    "print(f'Le nombre de Thaïlandais en état de sous-nutrition en 2017 est de {nombre_personnes_thailande_2017:.0f}')"
   ]
  },
  {
   "cell_type": "code",
   "execution_count": 524,
   "id": "5b6f9669",
   "metadata": {},
   "outputs": [
    {
     "name": "stdout",
     "output_type": "stream",
     "text": [
      "La proportion des personnes en état de sous-nutrition en Thailande est de 8.96%\n"
     ]
    }
   ],
   "source": [
    "# calculons la proportion des personnes en état de sous-nutrition en Thaïlande\n",
    "proportion_personnes_sous_nutrition_thailande = nombre_personnes_thailande_2017 * 100 / nombre_habitants_thailande_2017 \n",
    "proportion_personnes_sous_nutrition_thailande\n",
    "print(f'La proportion des personnes en état de sous-nutrition en Thailande est de {proportion_personnes_sous_nutrition_thailande:.2f}%')"
   ]
  },
  {
   "cell_type": "markdown",
   "id": "96effd97",
   "metadata": {},
   "source": [
    "__d. Rapport entre l'exportation et la production du manioc__"
   ]
  },
  {
   "cell_type": "code",
   "execution_count": 522,
   "id": "2843ec62",
   "metadata": {},
   "outputs": [
    {
     "name": "stdout",
     "output_type": "stream",
     "text": [
      " la Thaïlande produit 30228000000 tonnes de manioc\n"
     ]
    }
   ],
   "source": [
    "# Calculons de la valeur de la production du manioc thailandais\n",
    "production_thailande = df_dispon_alim[(df_dispon_alim.Pays=='Thaïlande')&(df_dispon_alim.Produit=='Manioc')]['Production'].sum()\n",
    "production_thailande\n",
    "print(f' la Thaïlande produit {production_thailande:.0f} tonnes de manioc')"
   ]
  },
  {
   "cell_type": "code",
   "execution_count": 521,
   "id": "643910c3",
   "metadata": {},
   "outputs": [
    {
     "name": "stdout",
     "output_type": "stream",
     "text": [
      " la Thaïlande exporte 25214000000 tonnes de manioc\n"
     ]
    }
   ],
   "source": [
    "# Calculons de la valeur de l'exportation du manioc thailandais\n",
    "exportation_thailande = df_dispon_alim[(df_dispon_alim.Pays=='Thaïlande')&(df_dispon_alim.Produit=='Manioc')]['Export_qte'].sum()\n",
    "exportation_thailande\n",
    "print(f' la Thaïlande exporte {exportation_thailande:.0f} tonnes de manioc')"
   ]
  },
  {
   "cell_type": "code",
   "execution_count": 523,
   "id": "8bd377aa",
   "metadata": {},
   "outputs": [
    {
     "name": "stdout",
     "output_type": "stream",
     "text": [
      "La part de lexportation dans la production du manioc = 83.41%\n"
     ]
    }
   ],
   "source": [
    "# Calculons de la part de l'exportation dans la production du manioc thailandais\n",
    "proportion_manioc_thailande = exportation_thailande * 100 / production_thailande\n",
    "proportion_manioc_thailande\n",
    "print(f'La part de lexportation dans la production du manioc = {proportion_manioc_thailande:.2f}%')"
   ]
  },
  {
   "cell_type": "markdown",
   "id": "11e5a153",
   "metadata": {},
   "source": [
    "### IV. Conclusions"
   ]
  },
  {
   "cell_type": "markdown",
   "id": "ab1f4e88",
   "metadata": {},
   "source": [
    "- En 2017 sur une population de 7548134097 d'habitants, 7 personnes sur 100 souffraient de sous-alimentation dans le monde.\n",
    "\n",
    "- Avec la disponibilité alimentaire globale on pourrait nourrir 8367593844 personnes, c’est à dire le 110.86% de la population mondiale en 2017.\n",
    "\n",
    "- Les seuls produits végétaux pourraient nourrir 6904305679 personnes, c’est à dire le 91.47% de la population mondiale en 2017.\n",
    "\n",
    "- L’alimentation humaine représente pas loin de la moitié de la disponibilité intérieure 49,37 % avec une perte pas négligeable de 4,65 % observée (Les pertes pouvant être dues à un accident météorologique (pluie, tempête...), à la prédation ou la dégradation par la faune sauvage, les prédateurs(oiseaux, sangliers) et au mauvais réglage des machines ou à des machines de mauvaises qualités…\n",
    "\n",
    "- En 2017, Haïti, la république populaire démocratique de corée et Madagascar forment le top 3 des pays qui comprennent le plus de personnes souffrant de sous-nutrition. \n",
    "\n",
    "- Depuis 2013, les 3 premiers pays ayant reçus le plus d'aides alimentaires sont la République arabe syrienne, l’Éthiopie, le Yémen avec plus d'un milliard de tonnes. Il est à noter que l'origine de l'aide alimentaire vient de l'écoulement des excédents alimentaires. Le risque de ce type d'aide est de supplanter l'importation commerciale et de décourager la production locale dans les pays bénéficiaires. Les pays pauvres n’ont souvent pas les infrastructures de stockages nécessaires pour recevoir de telles donations, et encore moins pour les distribuer. Il vaut mieux transférer l'expertise agricole car les aides peuvent augmenter la précarité de leur condition en les faisant négliger les cultures locales. Les dons peuvent entraîner la perte des compétences agricoles.\n",
    "\n",
    "- Les besoins alimentaires d'un individu étant évalués à 2.500 kcal par jour en moyenne, les habitants des pays dont la disponibilité alimentaire par habitant  est le moins élevé ont un apport calorique jour ne permettant pas de couvrir les besoins en énergie. La République centrafricaine  avec ses 1879 calories par habitant arrive première de la liste. Concernant les pays dont la disponibilité alimentaire par habitant est le plus élevé l’Autriche en tête avec 3770 kcal par habitant suivi de la Belgique avec 3737 kcal par habitants. La plupart de ces pays sont européens contrairement à la première liste qui comprenait principalement les pays africains, et d’Asie. L'auto-suffisance alimentaire des pays europeensDans les pays riches, le type d'agriculture est dit intensif. Il s'agit d'une agriculture productiviste, en grande partie tournée vers l'exportation qui permet d'une part de nourrir la population locale et d'autre part, d'exporter vers d'autres pays une grosse partie de la production. Pour parvenir à ce résultat, les paysans utilisent massivement des engrais chimiques, des traitements herbicides, des insecticides, des pesticides, des régulateurs de croissance... et s'équipent d'un matériel agricole sophistiqué . Grâce à cela, les rendements et les récoltes sont bien meilleurs que dans les pays en développement où l'agriculture est, le plus souvent, de type traditionnel. Les paysans sont trop pauvres pour parvenir à s'acheter des outils, des machines, des engrais, des pesticides et des bonnes semences. \n",
    "\n",
    "- Plus d’un tiers de la production mondiale en céréales est destinée a l’alimentation animale soit 36,29 %. \n",
    "\n",
    "- La proportion des personnes en état de sous-nutrition en Thaïlande est de 8.96%. Et pourtant, l'exportation du manioc thailandais constitue 83% de la production du pays. \n",
    "La Thaïlande pourrait résoudre le problème de la sous-nutrition en réduisant l’exportation du manioc et en le transformant afin de combler la demande intérieure. Même si le manioc à lui seul ne saurait résoudre le problème."
   ]
  },
  {
   "cell_type": "code",
   "execution_count": null,
   "id": "a7bc9f45",
   "metadata": {},
   "outputs": [],
   "source": []
  }
 ],
 "metadata": {
  "celltoolbar": "Aucun(e)",
  "kernelspec": {
   "display_name": "Python 3 (ipykernel)",
   "language": "python",
   "name": "python3"
  },
  "language_info": {
   "codemirror_mode": {
    "name": "ipython",
    "version": 3
   },
   "file_extension": ".py",
   "mimetype": "text/x-python",
   "name": "python",
   "nbconvert_exporter": "python",
   "pygments_lexer": "ipython3",
   "version": "3.9.7"
  },
  "toc": {
   "base_numbering": 1,
   "nav_menu": {},
   "number_sections": false,
   "sideBar": true,
   "skip_h1_title": false,
   "title_cell": "Table of Contents",
   "title_sidebar": "Sommaire",
   "toc_cell": false,
   "toc_position": {
    "height": "calc(100% - 180px)",
    "left": "10px",
    "top": "150px",
    "width": "303.825px"
   },
   "toc_section_display": true,
   "toc_window_display": true
  }
 },
 "nbformat": 4,
 "nbformat_minor": 5
}
